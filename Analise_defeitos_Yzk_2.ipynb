{
  "nbformat": 4,
  "nbformat_minor": 0,
  "metadata": {
    "colab": {
      "name": "Analise_defeitos_Yzk_2.ipynb",
      "provenance": [],
      "authorship_tag": "ABX9TyNrcjPAx9sZ62OxTguCQtSZ",
      "include_colab_link": true
    },
    "kernelspec": {
      "name": "python3",
      "display_name": "Python 3"
    },
    "language_info": {
      "name": "python"
    }
  },
  "cells": [
    {
      "cell_type": "markdown",
      "metadata": {
        "id": "view-in-github",
        "colab_type": "text"
      },
      "source": [
        "<a href=\"https://colab.research.google.com/github/mantoan-thi/Machine-Learning-Projects-with-Python/blob/main/Analise_defeitos_Yzk_2.ipynb\" target=\"_parent\"><img src=\"https://colab.research.google.com/assets/colab-badge.svg\" alt=\"Open In Colab\"/></a>"
      ]
    },
    {
      "cell_type": "markdown",
      "source": [
        "# Machine learning: Séries temporais e PMDARIMA (Autoarima)"
      ],
      "metadata": {
        "id": "MO346HU5mdBu"
      }
    },
    {
      "cell_type": "code",
      "source": [
        "!pip install pmdarima"
      ],
      "metadata": {
        "id": "jesdw7Y7dwz3"
      },
      "execution_count": null,
      "outputs": []
    },
    {
      "cell_type": "code",
      "execution_count": 21,
      "metadata": {
        "id": "r-nawUKqUSo-"
      },
      "outputs": [],
      "source": [
        "import pandas as pd\n",
        "import numpy as np\n",
        "import matplotlib.pyplot as plt\n",
        "import time"
      ]
    },
    {
      "cell_type": "code",
      "source": [
        "df = pd.read_csv('/content/defeitos.csv',sep=';',encoding='latin-1')\n",
        "df['Data'] = pd.to_datetime(df['Data'])\n",
        "df.head(2)"
      ],
      "metadata": {
        "colab": {
          "base_uri": "https://localhost:8080/",
          "height": 112
        },
        "id": "ZFSoJ2SGY4Wv",
        "outputId": "5d3b3249-7241-4c2b-b521-737036b92bad"
      },
      "execution_count": 47,
      "outputs": [
        {
          "output_type": "execute_result",
          "data": {
            "text/html": [
              "<div>\n",
              "<style scoped>\n",
              "    .dataframe tbody tr th:only-of-type {\n",
              "        vertical-align: middle;\n",
              "    }\n",
              "\n",
              "    .dataframe tbody tr th {\n",
              "        vertical-align: top;\n",
              "    }\n",
              "\n",
              "    .dataframe thead th {\n",
              "        text-align: right;\n",
              "    }\n",
              "</style>\n",
              "<table border=\"1\" class=\"dataframe\">\n",
              "  <thead>\n",
              "    <tr style=\"text-align: right;\">\n",
              "      <th></th>\n",
              "      <th>Data</th>\n",
              "      <th>Turno</th>\n",
              "      <th>Linha</th>\n",
              "      <th>Projeto</th>\n",
              "      <th>Cliente</th>\n",
              "      <th>Processo</th>\n",
              "      <th>Código defeito</th>\n",
              "      <th>Classificação</th>\n",
              "      <th>Descrição do defeito</th>\n",
              "      <th>Ramal</th>\n",
              "      <th>Cavidade</th>\n",
              "      <th>Defeitos</th>\n",
              "      <th>QTD INSP</th>\n",
              "    </tr>\n",
              "  </thead>\n",
              "  <tbody>\n",
              "    <tr>\n",
              "      <th>0</th>\n",
              "      <td>2020-06-01</td>\n",
              "      <td>A</td>\n",
              "      <td>IP T5/TR</td>\n",
              "      <td>T5/TR</td>\n",
              "      <td>HONDA</td>\n",
              "      <td>Inspeção final</td>\n",
              "      <td>u1</td>\n",
              "      <td>S</td>\n",
              "      <td>Tubo com Circuitos VisÍveis ( CVO / COT / ZIPER )</td>\n",
              "      <td>60</td>\n",
              "      <td>NaN</td>\n",
              "      <td>1</td>\n",
              "      <td>NaN</td>\n",
              "    </tr>\n",
              "    <tr>\n",
              "      <th>1</th>\n",
              "      <td>2020-06-01</td>\n",
              "      <td>A</td>\n",
              "      <td>IP T5/TR</td>\n",
              "      <td>T5/TR</td>\n",
              "      <td>HONDA</td>\n",
              "      <td>Inspeção final</td>\n",
              "      <td>T1</td>\n",
              "      <td>B</td>\n",
              "      <td>Ramal / Saída em Posição Errada</td>\n",
              "      <td>36</td>\n",
              "      <td>NaN</td>\n",
              "      <td>1</td>\n",
              "      <td>NaN</td>\n",
              "    </tr>\n",
              "  </tbody>\n",
              "</table>\n",
              "</div>"
            ],
            "text/plain": [
              "        Data Turno     Linha Projeto  ... Ramal Cavidade Defeitos QTD INSP\n",
              "0 2020-06-01     A  IP T5/TR   T5/TR  ...    60      NaN        1      NaN\n",
              "1 2020-06-01     A  IP T5/TR   T5/TR  ...    36      NaN        1      NaN\n",
              "\n",
              "[2 rows x 13 columns]"
            ]
          },
          "metadata": {},
          "execution_count": 47
        }
      ]
    },
    {
      "cell_type": "code",
      "source": [
        "df['Linha'].unique()"
      ],
      "metadata": {
        "colab": {
          "base_uri": "https://localhost:8080/"
        },
        "id": "XGj77oZ1Zguj",
        "outputId": "6a7fcf19-3060-4729-bb5c-802ed0544a3d"
      },
      "execution_count": 48,
      "outputs": [
        {
          "output_type": "execute_result",
          "data": {
            "text/plain": [
              "array(['IP T5/TR', 'L Cabin T5/TR', 'R Cabin T5/TR', 'IP T9',\n",
              "       'L Cabin T9', 'R Cabin T9', 'Floor T5/TR', '360B ERM', '833W ERM',\n",
              "       '474B ERM', '474B IP FLOOR', '360B SMALL', '360B ENG', '360B DOOR',\n",
              "       '740B DOOR RH', 'L CABIN T9', 'R CABIN T9', '740B SMALL',\n",
              "       'IP TRYX ', 'Floor TRYX ', 'L Cabin TRYX ', 'R Cabin TRYX ',\n",
              "       'R Cabin T9LT ', 'IP T9LT ', 'L Cabin T9LT ', 'L Cabin T5NR ',\n",
              "       'R Cabin T5NR ', 'Floor T5NR ', 'IP T5NR ', '740B ENG', '740B ERM',\n",
              "       '740B BACK DOOR', '740B DOOR LH', 'Bateria T9LT ', '360B Eng',\n",
              "       'AS DOOR 752 T00A', 'DR DOOR 751 T00A', 'FLOOR 4DR T00A',\n",
              "       'ERM T00A', 'RR_L DOOR 754 T00A', 'RR_R DOOR 753 T00A',\n",
              "       'ERM ARG T00A', 'FLOOR 5DR T00A'], dtype=object)"
            ]
          },
          "metadata": {},
          "execution_count": 48
        }
      ]
    },
    {
      "cell_type": "code",
      "source": [
        "# Filtrando a linha e Turno\n",
        "\n",
        "linha = '740B ERM'\n",
        "Turno = 'A'\n",
        "\n",
        "df_linha_turno = df.loc[df.Linha == linha]\n",
        "df_linha_turno = df_linha_turno.loc[df_linha_turno.Turno == Turno]\n",
        "df_linha_turno.head(2)"
      ],
      "metadata": {
        "colab": {
          "base_uri": "https://localhost:8080/",
          "height": 112
        },
        "id": "oQzI2KfUZYzy",
        "outputId": "dcb7d0c8-c8db-4861-8c68-bc21abf47fca"
      },
      "execution_count": 49,
      "outputs": [
        {
          "output_type": "execute_result",
          "data": {
            "text/html": [
              "<div>\n",
              "<style scoped>\n",
              "    .dataframe tbody tr th:only-of-type {\n",
              "        vertical-align: middle;\n",
              "    }\n",
              "\n",
              "    .dataframe tbody tr th {\n",
              "        vertical-align: top;\n",
              "    }\n",
              "\n",
              "    .dataframe thead th {\n",
              "        text-align: right;\n",
              "    }\n",
              "</style>\n",
              "<table border=\"1\" class=\"dataframe\">\n",
              "  <thead>\n",
              "    <tr style=\"text-align: right;\">\n",
              "      <th></th>\n",
              "      <th>Data</th>\n",
              "      <th>Turno</th>\n",
              "      <th>Linha</th>\n",
              "      <th>Projeto</th>\n",
              "      <th>Cliente</th>\n",
              "      <th>Processo</th>\n",
              "      <th>Código defeito</th>\n",
              "      <th>Classificação</th>\n",
              "      <th>Descrição do defeito</th>\n",
              "      <th>Ramal</th>\n",
              "      <th>Cavidade</th>\n",
              "      <th>Defeitos</th>\n",
              "      <th>QTD INSP</th>\n",
              "    </tr>\n",
              "  </thead>\n",
              "  <tbody>\n",
              "    <tr>\n",
              "      <th>15753</th>\n",
              "      <td>2020-02-12</td>\n",
              "      <td>A</td>\n",
              "      <td>740B ERM</td>\n",
              "      <td>740B</td>\n",
              "      <td>TOYOTA</td>\n",
              "      <td>Inspeção final</td>\n",
              "      <td>B2</td>\n",
              "      <td>B</td>\n",
              "      <td>Amarre Auxiliar Faltante</td>\n",
              "      <td>2</td>\n",
              "      <td>NaN</td>\n",
              "      <td>1</td>\n",
              "      <td>NaN</td>\n",
              "    </tr>\n",
              "    <tr>\n",
              "      <th>15754</th>\n",
              "      <td>2020-02-12</td>\n",
              "      <td>A</td>\n",
              "      <td>740B ERM</td>\n",
              "      <td>740B</td>\n",
              "      <td>TOYOTA</td>\n",
              "      <td>Inspeção final</td>\n",
              "      <td>E8</td>\n",
              "      <td>A</td>\n",
              "      <td>Circuito Maior que Especificado</td>\n",
              "      <td>611</td>\n",
              "      <td>NaN</td>\n",
              "      <td>1</td>\n",
              "      <td>NaN</td>\n",
              "    </tr>\n",
              "  </tbody>\n",
              "</table>\n",
              "</div>"
            ],
            "text/plain": [
              "            Data Turno     Linha Projeto  ... Ramal Cavidade Defeitos QTD INSP\n",
              "15753 2020-02-12     A  740B ERM    740B  ...     2      NaN        1      NaN\n",
              "15754 2020-02-12     A  740B ERM    740B  ...   611      NaN        1      NaN\n",
              "\n",
              "[2 rows x 13 columns]"
            ]
          },
          "metadata": {},
          "execution_count": 49
        }
      ]
    },
    {
      "cell_type": "code",
      "source": [
        "df_linha_turno = df_linha_turno.set_index('Data')\n",
        "df_linha_turno.index = pd.to_datetime(df_linha_turno.index, format='%Y-%m-%d')\n",
        "df_linha_turno = df_linha_turno[['Projeto','Defeitos']].groupby('Data').sum()\n",
        "df_linha_turno.head(2)"
      ],
      "metadata": {
        "colab": {
          "base_uri": "https://localhost:8080/",
          "height": 143
        },
        "id": "vGPww71QZFZQ",
        "outputId": "bd04fc64-dd1f-4433-c595-e766eaed4c0d"
      },
      "execution_count": 50,
      "outputs": [
        {
          "output_type": "execute_result",
          "data": {
            "text/html": [
              "<div>\n",
              "<style scoped>\n",
              "    .dataframe tbody tr th:only-of-type {\n",
              "        vertical-align: middle;\n",
              "    }\n",
              "\n",
              "    .dataframe tbody tr th {\n",
              "        vertical-align: top;\n",
              "    }\n",
              "\n",
              "    .dataframe thead th {\n",
              "        text-align: right;\n",
              "    }\n",
              "</style>\n",
              "<table border=\"1\" class=\"dataframe\">\n",
              "  <thead>\n",
              "    <tr style=\"text-align: right;\">\n",
              "      <th></th>\n",
              "      <th>Defeitos</th>\n",
              "    </tr>\n",
              "    <tr>\n",
              "      <th>Data</th>\n",
              "      <th></th>\n",
              "    </tr>\n",
              "  </thead>\n",
              "  <tbody>\n",
              "    <tr>\n",
              "      <th>2020-02-12</th>\n",
              "      <td>17</td>\n",
              "    </tr>\n",
              "    <tr>\n",
              "      <th>2020-07-12</th>\n",
              "      <td>17</td>\n",
              "    </tr>\n",
              "  </tbody>\n",
              "</table>\n",
              "</div>"
            ],
            "text/plain": [
              "            Defeitos\n",
              "Data                \n",
              "2020-02-12        17\n",
              "2020-07-12        17"
            ]
          },
          "metadata": {},
          "execution_count": 50
        }
      ]
    },
    {
      "cell_type": "code",
      "source": [
        "from statsmodels.tsa.seasonal import seasonal_decompose"
      ],
      "metadata": {
        "id": "erqRnWIHatMz"
      },
      "execution_count": 51,
      "outputs": []
    },
    {
      "cell_type": "code",
      "source": [
        "from statsmodels.tsa.seasonal import seasonal_decompose\n",
        "decomposition = seasonal_decompose(df_linha_turno,period=52,extrapolate_trend=52) \n",
        "trend = decomposition.trend \n",
        "seasonal = decomposition.seasonal \n",
        "residual = decomposition.resid \n",
        "plt.gcf().set_size_inches(15, 8)\n",
        "plt.subplot(411) \n",
        "plt.plot(df_linha_turno, label='Original') \n",
        "plt.legend(loc='best') \n",
        "plt.subplot(412) \n",
        "plt.plot(trend, label='Tendência') \n",
        "plt.legend(loc='best') \n",
        "plt.subplot(413) \n",
        "plt.plot(seasonal,label='Sazonalidade') \n",
        "plt.legend(loc='best') \n",
        "plt.subplot(414) \n",
        "plt.plot(residual, label='Resíduo') \n",
        "plt.legend(loc='best') \n",
        "plt.tight_layout()"
      ],
      "metadata": {
        "colab": {
          "base_uri": "https://localhost:8080/",
          "height": 586
        },
        "id": "6Vrk3w1YatyE",
        "outputId": "101b9167-d7b3-4c37-cad5-9f453544327b"
      },
      "execution_count": 68,
      "outputs": [
        {
          "output_type": "display_data",
          "data": {
            "image/png": "[encoded data removed]",
            "text/plain": [
              "<Figure size 1080x576 with 4 Axes>"
            ]
          },
          "metadata": {
            "needs_background": "light"
          }
        }
      ]
    },
    {
      "cell_type": "markdown",
      "source": [
        ""
      ],
      "metadata": {
        "id": "hVRhlObWlTkb"
      }
    },
    {
      "cell_type": "code",
      "source": [
        "import statsmodels.api as sm\n",
        "fig, (ax1, ax2) = plt.subplots(2, 1, figsize=(15,10))\n",
        "sm.graphics.tsa.plot_acf(df_linha_turno.values.squeeze(), lags=40, ax=ax1)\n",
        "sm.graphics.tsa.plot_pacf(df_linha_turno.values.squeeze(), lags=40, ax=ax2)\n",
        "plt.show();"
      ],
      "metadata": {
        "colab": {
          "base_uri": "https://localhost:8080/",
          "height": 697
        },
        "id": "GuiYyWSyb5Rd",
        "outputId": "7e0bbea8-1e08-42dd-942f-c0d7cb2ca7cb"
      },
      "execution_count": 53,
      "outputs": [
        {
          "output_type": "stream",
          "name": "stderr",
          "text": [
            "/usr/local/lib/python3.7/dist-packages/statsmodels/graphics/tsaplots.py:353: FutureWarning:\n",
            "\n",
            "The default method 'yw' can produce PACF values outside of the [-1,1] interval. After 0.13, the default will change tounadjusted Yule-Walker ('ywm'). You can use this method now by setting method='ywm'.\n",
            "\n"
          ]
        },
        {
          "output_type": "display_data",
          "data": {
            "image/png": "[encoded data removed]",
            "text/plain": [
              "<Figure size 1080x720 with 2 Axes>"
            ]
          },
          "metadata": {
            "needs_background": "light"
          }
        }
      ]
    },
    {
      "cell_type": "markdown",
      "source": [
        "No gráfico, o eixo vertical indica a autocorrelação e o horizontal a defasagem. A sombra em azul indica onde é significativamente diferente de zero. Como é possível ver na imagem, praticamente todos os valores ACF estão dentro do limite da sombra azul. Ou seja, autocorrelação igual a zero, indicando que a série é aleatória – conforme o esperado.\n",
        "\n",
        "* ACF = autocorrelation function"
      ],
      "metadata": {
        "id": "MMGfcvQqlTp0"
      }
    },
    {
      "cell_type": "markdown",
      "source": [
        "Utilizando o pacote PMDARIMA (Autoarima)\n",
        "O pacote pmdarima é utilizado para aplicar uma especie de força bruta em um modelo arima testando diversos parâmetros afim de encontrar o melhor cenário com baixo AIC. No entanto antes de começarmos vamos entender um pouco mais sobre o ARIMA.\n",
        "\n",
        "Um modelo ARIMA significa Média Móvel integrada AutoRegressiva, ou seja este tipo de modelo trabalha com a Média Móvel diante de dados históricos para prever o futuro, diferente de alguns outros modelos o ARIMA suporta trabalhar tanto com dados sazonais como dados não sazonais, tudo isso é especificado através de uma série de parâmetros que basicamente categoriza seus dados em tendência,ruido e sazonalidade. Vamos discutir os parâmetros mais importantes do ARIMA o p,d e q.\n",
        "\n",
        "Primeiramente o parâmetro P associado ao AR do modelo ARIMA, é o parâmetro de regressão dos dados, ou seja, é ele que procura entender como esta se comportando os dados do passado.\n",
        "\n",
        "O segundo parâmetro D associado ao I do modelo ARIMA, é o parâmetro que busca identificar uma especie de “semelhança” nos dados, ou seja, a diferenciação entre os dados e com isso é possível saber se os dados tem uma grande variancia o que contribui com o cenário de previsão.\n",
        "\n",
        "Por ultimo o parâmetro Q associado ao MA do modelo ARIMA, é o parâmetro da média móvel do modelo, em outras palavras ele que identificada através do calculo de média móvel a direção da tendência dos dados."
      ],
      "metadata": {
        "id": "UOZdGgKWegiN"
      }
    },
    {
      "cell_type": "code",
      "source": [
        "from pmdarima.arima import auto_arima\n",
        "bruteforce_modelo = auto_arima(df_linha_turno, \n",
        "                               start_p=0, \n",
        "                               start_d=0 ,\n",
        "                               start_q=0,\n",
        "                               max_p=8, \n",
        "                               max_d=8,\n",
        "                               max_q=8, \n",
        "                               m=7, \n",
        "                               start_P=0, \n",
        "                               seasonal=True, \n",
        "                               d=1, D=1, \n",
        "                               trace=True, \n",
        "                               error_action='ignore',\n",
        "                               suppress_warnings=True, \n",
        "                               stepwise=False)"
      ],
      "metadata": {
        "colab": {
          "base_uri": "https://localhost:8080/"
        },
        "id": "t_chsdPycwfE",
        "outputId": "34bc6875-9ddc-4180-9f3c-c25b52e2fe67"
      },
      "execution_count": 54,
      "outputs": [
        {
          "output_type": "stream",
          "name": "stdout",
          "text": [
            " ARIMA(0,1,0)(0,1,0)[7]             : AIC=2026.800, Time=0.01 sec\n",
            " ARIMA(0,1,0)(0,1,1)[7]             : AIC=inf, Time=0.18 sec\n",
            " ARIMA(0,1,0)(0,1,2)[7]             : AIC=inf, Time=0.65 sec\n",
            " ARIMA(0,1,0)(1,1,0)[7]             : AIC=1969.450, Time=0.07 sec\n",
            " ARIMA(0,1,0)(1,1,1)[7]             : AIC=inf, Time=0.40 sec\n",
            " ARIMA(0,1,0)(1,1,2)[7]             : AIC=inf, Time=1.12 sec\n",
            " ARIMA(0,1,0)(2,1,0)[7]             : AIC=1922.777, Time=0.15 sec\n",
            " ARIMA(0,1,0)(2,1,1)[7]             : AIC=inf, Time=0.94 sec\n",
            " ARIMA(0,1,0)(2,1,2)[7]             : AIC=inf, Time=1.95 sec\n",
            " ARIMA(0,1,1)(0,1,0)[7]             : AIC=1975.578, Time=0.06 sec\n",
            " ARIMA(0,1,1)(0,1,1)[7]             : AIC=inf, Time=0.44 sec\n",
            " ARIMA(0,1,1)(0,1,2)[7]             : AIC=inf, Time=1.41 sec\n",
            " ARIMA(0,1,1)(1,1,0)[7]             : AIC=1901.812, Time=0.15 sec\n",
            " ARIMA(0,1,1)(1,1,1)[7]             : AIC=inf, Time=1.03 sec\n",
            " ARIMA(0,1,1)(1,1,2)[7]             : AIC=inf, Time=2.59 sec\n",
            " ARIMA(0,1,1)(2,1,0)[7]             : AIC=1860.982, Time=0.62 sec\n",
            " ARIMA(0,1,1)(2,1,1)[7]             : AIC=inf, Time=1.17 sec\n",
            " ARIMA(0,1,1)(2,1,2)[7]             : AIC=inf, Time=1.85 sec\n",
            " ARIMA(0,1,2)(0,1,0)[7]             : AIC=inf, Time=0.35 sec\n",
            " ARIMA(0,1,2)(0,1,1)[7]             : AIC=inf, Time=0.60 sec\n",
            " ARIMA(0,1,2)(0,1,2)[7]             : AIC=inf, Time=1.52 sec\n",
            " ARIMA(0,1,2)(1,1,0)[7]             : AIC=inf, Time=0.63 sec\n",
            " ARIMA(0,1,2)(1,1,1)[7]             : AIC=inf, Time=0.91 sec\n",
            " ARIMA(0,1,2)(1,1,2)[7]             : AIC=inf, Time=1.88 sec\n",
            " ARIMA(0,1,2)(2,1,0)[7]             : AIC=inf, Time=1.34 sec\n",
            " ARIMA(0,1,2)(2,1,1)[7]             : AIC=inf, Time=1.53 sec\n",
            " ARIMA(0,1,3)(0,1,0)[7]             : AIC=inf, Time=0.49 sec\n",
            " ARIMA(0,1,3)(0,1,1)[7]             : AIC=inf, Time=1.00 sec\n",
            " ARIMA(0,1,3)(0,1,2)[7]             : AIC=inf, Time=2.30 sec\n",
            " ARIMA(0,1,3)(1,1,0)[7]             : AIC=inf, Time=0.85 sec\n",
            " ARIMA(0,1,3)(1,1,1)[7]             : AIC=inf, Time=1.19 sec\n",
            " ARIMA(0,1,3)(2,1,0)[7]             : AIC=inf, Time=1.51 sec\n",
            " ARIMA(0,1,4)(0,1,0)[7]             : AIC=inf, Time=0.62 sec\n",
            " ARIMA(0,1,4)(0,1,1)[7]             : AIC=inf, Time=1.13 sec\n",
            " ARIMA(0,1,4)(1,1,0)[7]             : AIC=inf, Time=1.03 sec\n",
            " ARIMA(0,1,5)(0,1,0)[7]             : AIC=inf, Time=1.22 sec\n",
            " ARIMA(1,1,0)(0,1,0)[7]             : AIC=1988.668, Time=0.05 sec\n",
            " ARIMA(1,1,0)(0,1,1)[7]             : AIC=inf, Time=0.43 sec\n",
            " ARIMA(1,1,0)(0,1,2)[7]             : AIC=inf, Time=1.27 sec\n",
            " ARIMA(1,1,0)(1,1,0)[7]             : AIC=1927.094, Time=0.11 sec\n",
            " ARIMA(1,1,0)(1,1,1)[7]             : AIC=inf, Time=0.29 sec\n",
            " ARIMA(1,1,0)(1,1,2)[7]             : AIC=inf, Time=1.72 sec\n",
            " ARIMA(1,1,0)(2,1,0)[7]             : AIC=1880.899, Time=0.22 sec\n",
            " ARIMA(1,1,0)(2,1,1)[7]             : AIC=inf, Time=1.62 sec\n",
            " ARIMA(1,1,0)(2,1,2)[7]             : AIC=inf, Time=2.43 sec\n",
            " ARIMA(1,1,1)(0,1,0)[7]             : AIC=inf, Time=0.28 sec\n",
            " ARIMA(1,1,1)(0,1,1)[7]             : AIC=inf, Time=0.64 sec\n",
            " ARIMA(1,1,1)(0,1,2)[7]             : AIC=inf, Time=1.82 sec\n",
            " ARIMA(1,1,1)(1,1,0)[7]             : AIC=inf, Time=0.52 sec\n",
            " ARIMA(1,1,1)(1,1,1)[7]             : AIC=inf, Time=1.02 sec\n",
            " ARIMA(1,1,1)(1,1,2)[7]             : AIC=inf, Time=1.68 sec\n",
            " ARIMA(1,1,1)(2,1,0)[7]             : AIC=inf, Time=1.48 sec\n",
            " ARIMA(1,1,1)(2,1,1)[7]             : AIC=inf, Time=1.81 sec\n",
            " ARIMA(1,1,2)(0,1,0)[7]             : AIC=inf, Time=0.59 sec\n",
            " ARIMA(1,1,2)(0,1,1)[7]             : AIC=inf, Time=1.15 sec\n",
            " ARIMA(1,1,2)(0,1,2)[7]             : AIC=inf, Time=2.54 sec\n",
            " ARIMA(1,1,2)(1,1,0)[7]             : AIC=inf, Time=0.97 sec\n",
            " ARIMA(1,1,2)(1,1,1)[7]             : AIC=inf, Time=2.03 sec\n",
            " ARIMA(1,1,2)(2,1,0)[7]             : AIC=inf, Time=2.39 sec\n",
            " ARIMA(1,1,3)(0,1,0)[7]             : AIC=inf, Time=0.61 sec\n",
            " ARIMA(1,1,3)(0,1,1)[7]             : AIC=inf, Time=1.52 sec\n",
            " ARIMA(1,1,3)(1,1,0)[7]             : AIC=inf, Time=1.08 sec\n",
            " ARIMA(1,1,4)(0,1,0)[7]             : AIC=inf, Time=1.07 sec\n",
            " ARIMA(2,1,0)(0,1,0)[7]             : AIC=1980.065, Time=0.08 sec\n",
            " ARIMA(2,1,0)(0,1,1)[7]             : AIC=inf, Time=0.60 sec\n",
            " ARIMA(2,1,0)(0,1,2)[7]             : AIC=inf, Time=1.50 sec\n",
            " ARIMA(2,1,0)(1,1,0)[7]             : AIC=1913.632, Time=0.18 sec\n",
            " ARIMA(2,1,0)(1,1,1)[7]             : AIC=inf, Time=0.37 sec\n",
            " ARIMA(2,1,0)(1,1,2)[7]             : AIC=inf, Time=0.81 sec\n",
            " ARIMA(2,1,0)(2,1,0)[7]             : AIC=1875.669, Time=0.28 sec\n",
            " ARIMA(2,1,0)(2,1,1)[7]             : AIC=inf, Time=1.57 sec\n",
            " ARIMA(2,1,1)(0,1,0)[7]             : AIC=inf, Time=0.44 sec\n",
            " ARIMA(2,1,1)(0,1,1)[7]             : AIC=inf, Time=0.98 sec\n",
            " ARIMA(2,1,1)(0,1,2)[7]             : AIC=inf, Time=1.94 sec\n",
            " ARIMA(2,1,1)(1,1,0)[7]             : AIC=inf, Time=0.94 sec\n",
            " ARIMA(2,1,1)(1,1,1)[7]             : AIC=inf, Time=1.41 sec\n",
            " ARIMA(2,1,1)(2,1,0)[7]             : AIC=inf, Time=1.78 sec\n",
            " ARIMA(2,1,2)(0,1,0)[7]             : AIC=inf, Time=0.56 sec\n",
            " ARIMA(2,1,2)(0,1,1)[7]             : AIC=inf, Time=1.49 sec\n",
            " ARIMA(2,1,2)(1,1,0)[7]             : AIC=inf, Time=1.26 sec\n",
            " ARIMA(2,1,3)(0,1,0)[7]             : AIC=inf, Time=0.93 sec\n",
            " ARIMA(3,1,0)(0,1,0)[7]             : AIC=1980.778, Time=0.10 sec\n",
            " ARIMA(3,1,0)(0,1,1)[7]             : AIC=inf, Time=0.67 sec\n",
            " ARIMA(3,1,0)(0,1,2)[7]             : AIC=inf, Time=1.87 sec\n",
            " ARIMA(3,1,0)(1,1,0)[7]             : AIC=1912.712, Time=0.18 sec\n",
            " ARIMA(3,1,0)(1,1,1)[7]             : AIC=inf, Time=0.50 sec\n",
            " ARIMA(3,1,0)(2,1,0)[7]             : AIC=1873.810, Time=0.58 sec\n",
            " ARIMA(3,1,1)(0,1,0)[7]             : AIC=inf, Time=0.69 sec\n",
            " ARIMA(3,1,1)(0,1,1)[7]             : AIC=inf, Time=1.27 sec\n",
            " ARIMA(3,1,1)(1,1,0)[7]             : AIC=inf, Time=1.24 sec\n",
            " ARIMA(3,1,2)(0,1,0)[7]             : AIC=inf, Time=0.51 sec\n",
            " ARIMA(4,1,0)(0,1,0)[7]             : AIC=1981.432, Time=0.13 sec\n",
            " ARIMA(4,1,0)(0,1,1)[7]             : AIC=inf, Time=1.00 sec\n",
            " ARIMA(4,1,0)(1,1,0)[7]             : AIC=1908.111, Time=0.29 sec\n",
            " ARIMA(4,1,1)(0,1,0)[7]             : AIC=1983.419, Time=0.28 sec\n",
            " ARIMA(5,1,0)(0,1,0)[7]             : AIC=1983.346, Time=0.14 sec\n",
            "\n",
            "Best model:  ARIMA(0,1,1)(2,1,0)[7]          \n",
            "Total fit time: 93.040 seconds\n"
          ]
        }
      ]
    },
    {
      "cell_type": "code",
      "source": [
        "print(f\"Resultado AIC: {bruteforce_modelo.aic()}\")\n",
        "print(f\"Resultado melhores parametros (p,d,q): {bruteforce_modelo.order}\")"
      ],
      "metadata": {
        "colab": {
          "base_uri": "https://localhost:8080/"
        },
        "id": "nsyeNMxKeyyn",
        "outputId": "518a3c4c-e4ac-4ae9-daca-55c4b1ece59d"
      },
      "execution_count": 55,
      "outputs": [
        {
          "output_type": "stream",
          "name": "stdout",
          "text": [
            "Resultado AIC: 1860.981811054209\n",
            "Resultado melhores parametros (p,d,q): (0, 1, 1)\n"
          ]
        }
      ]
    },
    {
      "cell_type": "code",
      "source": [
        "futuro_forecast = bruteforce_modelo.predict(n_periods=30)"
      ],
      "metadata": {
        "id": "Da1toiOYe2By"
      },
      "execution_count": 56,
      "outputs": []
    },
    {
      "cell_type": "code",
      "source": [
        "import datetime \n",
        "dataatual = datetime.datetime.today()\n",
        "dataatual = datetime.datetime.today() - datetime.timedelta(days=1)\n",
        "lista_datas = [dataatual + datetime.timedelta(days=x) for x in range(30)]\n",
        "lista_datas = [pd.datetime.strftime(i,'%Y-%m-%d') for i in lista_datas]"
      ],
      "metadata": {
        "colab": {
          "base_uri": "https://localhost:8080/"
        },
        "id": "0dHQ0xz7e2so",
        "outputId": "95471e3d-6130-4274-ad34-1980f9385855"
      },
      "execution_count": 57,
      "outputs": [
        {
          "output_type": "stream",
          "name": "stderr",
          "text": [
            "/usr/local/lib/python3.7/dist-packages/ipykernel_launcher.py:5: FutureWarning:\n",
            "\n",
            "The pandas.datetime class is deprecated and will be removed from pandas in a future version. Import from datetime module instead.\n",
            "\n"
          ]
        }
      ]
    },
    {
      "cell_type": "code",
      "source": [
        "futuro_forecast = bruteforce_modelo.predict(n_periods=30)\n",
        "futuro_forecast = pd.DataFrame(futuro_forecast,index = lista_datas,columns=['Defeitos'])\n",
        "futuro_forecast.index.name = 'Data'\n",
        "futuro_forecast.index = pd.to_datetime(futuro_forecast.index)\n",
        "futuro_forecast.cases = round(futuro_forecast.Defeitos,0)\n",
        "futuro_forecast.head(2)"
      ],
      "metadata": {
        "colab": {
          "base_uri": "https://localhost:8080/",
          "height": 213
        },
        "id": "t3UBnKsde7Dn",
        "outputId": "105ba078-4038-4702-dc81-b61a4b7114d0"
      },
      "execution_count": 58,
      "outputs": [
        {
          "output_type": "stream",
          "name": "stderr",
          "text": [
            "/usr/local/lib/python3.7/dist-packages/ipykernel_launcher.py:5: UserWarning:\n",
            "\n",
            "Pandas doesn't allow columns to be created via a new attribute name - see https://pandas.pydata.org/pandas-docs/stable/indexing.html#attribute-access\n",
            "\n"
          ]
        },
        {
          "output_type": "execute_result",
          "data": {
            "text/html": [
              "<div>\n",
              "<style scoped>\n",
              "    .dataframe tbody tr th:only-of-type {\n",
              "        vertical-align: middle;\n",
              "    }\n",
              "\n",
              "    .dataframe tbody tr th {\n",
              "        vertical-align: top;\n",
              "    }\n",
              "\n",
              "    .dataframe thead th {\n",
              "        text-align: right;\n",
              "    }\n",
              "</style>\n",
              "<table border=\"1\" class=\"dataframe\">\n",
              "  <thead>\n",
              "    <tr style=\"text-align: right;\">\n",
              "      <th></th>\n",
              "      <th>Defeitos</th>\n",
              "    </tr>\n",
              "    <tr>\n",
              "      <th>Data</th>\n",
              "      <th></th>\n",
              "    </tr>\n",
              "  </thead>\n",
              "  <tbody>\n",
              "    <tr>\n",
              "      <th>2021-12-07</th>\n",
              "      <td>26.729132</td>\n",
              "    </tr>\n",
              "    <tr>\n",
              "      <th>2021-12-08</th>\n",
              "      <td>42.086569</td>\n",
              "    </tr>\n",
              "  </tbody>\n",
              "</table>\n",
              "</div>"
            ],
            "text/plain": [
              "             Defeitos\n",
              "Data                 \n",
              "2021-12-07  26.729132\n",
              "2021-12-08  42.086569"
            ]
          },
          "metadata": {},
          "execution_count": 58
        }
      ]
    },
    {
      "cell_type": "code",
      "source": [
        "final = pd.concat([df_linha_turno,futuro_forecast])\n",
        "final.head(2)"
      ],
      "metadata": {
        "colab": {
          "base_uri": "https://localhost:8080/",
          "height": 143
        },
        "id": "_J8dtB-Re9ga",
        "outputId": "aeda275a-2470-4c3d-c416-b7c30115094f"
      },
      "execution_count": 59,
      "outputs": [
        {
          "output_type": "execute_result",
          "data": {
            "text/html": [
              "<div>\n",
              "<style scoped>\n",
              "    .dataframe tbody tr th:only-of-type {\n",
              "        vertical-align: middle;\n",
              "    }\n",
              "\n",
              "    .dataframe tbody tr th {\n",
              "        vertical-align: top;\n",
              "    }\n",
              "\n",
              "    .dataframe thead th {\n",
              "        text-align: right;\n",
              "    }\n",
              "</style>\n",
              "<table border=\"1\" class=\"dataframe\">\n",
              "  <thead>\n",
              "    <tr style=\"text-align: right;\">\n",
              "      <th></th>\n",
              "      <th>Defeitos</th>\n",
              "    </tr>\n",
              "    <tr>\n",
              "      <th>Data</th>\n",
              "      <th></th>\n",
              "    </tr>\n",
              "  </thead>\n",
              "  <tbody>\n",
              "    <tr>\n",
              "      <th>2020-02-12</th>\n",
              "      <td>17.0</td>\n",
              "    </tr>\n",
              "    <tr>\n",
              "      <th>2020-07-12</th>\n",
              "      <td>17.0</td>\n",
              "    </tr>\n",
              "  </tbody>\n",
              "</table>\n",
              "</div>"
            ],
            "text/plain": [
              "            Defeitos\n",
              "Data                \n",
              "2020-02-12      17.0\n",
              "2020-07-12      17.0"
            ]
          },
          "metadata": {},
          "execution_count": 59
        }
      ]
    },
    {
      "cell_type": "code",
      "source": [
        "import plotly.graph_objects as go   \n",
        "import plotly.express as px\n",
        "\n",
        "fig = go.Figure()\n",
        "fig.add_trace(go.Scatter(x=df_linha_turno.index, y=df_linha_turno.Defeitos,mode='lines+markers',\n",
        "                    name='Atual'))\n",
        "\n",
        "fig.add_trace(go.Scatter(x=futuro_forecast.index, y=futuro_forecast.Defeitos,mode='lines+markers', name='Previsto',\n",
        "line=dict(dash='dashdot')))\n",
        "\n",
        "fig.update_layout(title=\"Previsão para os proximos 30 dias de defeitos na linha\", width=1200, height=600)\n",
        "fig.show()"
      ],
      "metadata": {
        "colab": {
          "base_uri": "https://localhost:8080/",
          "height": 617
        },
        "id": "RcN4yzTWe_xt",
        "outputId": "53c70e05-d991-4fa8-8209-5a702182695d"
      },
      "execution_count": 60,
      "outputs": [
        {
          "output_type": "display_data",
          "data": {
            "text/html": [
              "<html>\n",
              "<head><meta charset=\"utf-8\" /></head>\n",
              "<body>\n",
              "    <div>\n",
              "            <script src=\"https://cdnjs.cloudflare.com/ajax/libs/mathjax/2.7.5/MathJax.js?config=TeX-AMS-MML_SVG\"></script><script type=\"text/javascript\">if (window.MathJax) {MathJax.Hub.Config({SVG: {font: \"STIX-Web\"}});}</script>\n",
              "                <script type=\"text/javascript\">window.PlotlyConfig = {MathJaxConfig: 'local'};</script>\n",
              "        <script src=\"https://cdn.plot.ly/plotly-latest.min.js\"></script>    \n",
              "            <div id=\"d0ecbedf-0643-4ac4-9df2-abf1c6d996d5\" class=\"plotly-graph-div\" style=\"height:600px; width:1200px;\"></div>\n",
              "            <script type=\"text/javascript\">\n",
              "                \n",
              "                    window.PLOTLYENV=window.PLOTLYENV || {};\n",
              "                    \n",
              "                if (document.getElementById(\"d0ecbedf-0643-4ac4-9df2-abf1c6d996d5\")) {\n",
              "                    Plotly.newPlot(\n",
              "                        'd0ecbedf-0643-4ac4-9df2-abf1c6d996d5',\n",
              "                        [{\"mode\": \"lines+markers\", \"name\": \"Atual\", \"type\": \"scatter\", \"x\": [\"2020-02-12T00:00:00\", \"2020-07-12T00:00:00\", \"2020-08-12T00:00:00\", \"2020-09-12T00:00:00\", \"2020-10-12T00:00:00\", \"2020-11-12T00:00:00\", \"2020-12-14T00:00:00\", \"2020-12-15T00:00:00\", \"2020-12-16T00:00:00\", \"2020-12-17T00:00:00\", \"2020-12-18T00:00:00\", \"2020-12-21T00:00:00\", \"2020-12-22T00:00:00\", \"2020-12-28T00:00:00\", \"2020-12-29T00:00:00\", \"2020-12-30T00:00:00\", \"2021-01-03T00:00:00\", \"2021-01-06T00:00:00\", \"2021-01-07T00:00:00\", \"2021-01-09T00:00:00\", \"2021-01-10T00:00:00\", \"2021-01-12T00:00:00\", \"2021-01-14T00:00:00\", \"2021-01-15T00:00:00\", \"2021-01-19T00:00:00\", \"2021-01-20T00:00:00\", \"2021-01-21T00:00:00\", \"2021-01-26T00:00:00\", \"2021-01-27T00:00:00\", \"2021-01-28T00:00:00\", \"2021-02-02T00:00:00\", \"2021-02-03T00:00:00\", \"2021-02-06T00:00:00\", \"2021-02-07T00:00:00\", \"2021-02-08T00:00:00\", \"2021-02-09T00:00:00\", \"2021-02-12T00:00:00\", \"2021-02-17T00:00:00\", \"2021-02-18T00:00:00\", \"2021-02-19T00:00:00\", \"2021-02-20T00:00:00\", \"2021-02-22T00:00:00\", \"2021-02-23T00:00:00\", \"2021-02-24T00:00:00\", \"2021-02-25T00:00:00\", \"2021-02-26T00:00:00\", \"2021-03-02T00:00:00\", \"2021-03-03T00:00:00\", \"2021-03-05T00:00:00\", \"2021-03-08T00:00:00\", \"2021-03-09T00:00:00\", \"2021-03-11T00:00:00\", \"2021-03-15T00:00:00\", \"2021-03-16T00:00:00\", \"2021-03-17T00:00:00\", \"2021-03-18T00:00:00\", \"2021-03-19T00:00:00\", \"2021-03-20T00:00:00\", \"2021-03-22T00:00:00\", \"2021-03-23T00:00:00\", \"2021-03-24T00:00:00\", \"2021-04-01T00:00:00\", \"2021-04-02T00:00:00\", \"2021-04-03T00:00:00\", \"2021-04-05T00:00:00\", \"2021-04-06T00:00:00\", \"2021-04-08T00:00:00\", \"2021-04-10T00:00:00\", \"2021-04-11T00:00:00\", \"2021-04-13T00:00:00\", \"2021-04-14T00:00:00\", \"2021-04-15T00:00:00\", \"2021-04-16T00:00:00\", \"2021-04-19T00:00:00\", \"2021-04-20T00:00:00\", \"2021-04-22T00:00:00\", \"2021-04-23T00:00:00\", \"2021-04-24T00:00:00\", \"2021-04-26T00:00:00\", \"2021-04-27T00:00:00\", \"2021-04-28T00:00:00\", \"2021-04-29T00:00:00\", \"2021-04-30T00:00:00\", \"2021-05-01T00:00:00\", \"2021-05-02T00:00:00\", \"2021-05-03T00:00:00\", \"2021-05-04T00:00:00\", \"2021-05-05T00:00:00\", \"2021-05-06T00:00:00\", \"2021-05-07T00:00:00\", \"2021-05-08T00:00:00\", \"2021-05-10T00:00:00\", \"2021-05-11T00:00:00\", \"2021-05-13T00:00:00\", \"2021-05-14T00:00:00\", \"2021-05-17T00:00:00\", \"2021-05-18T00:00:00\", \"2021-05-19T00:00:00\", \"2021-05-20T00:00:00\", \"2021-05-21T00:00:00\", \"2021-05-22T00:00:00\", \"2021-05-24T00:00:00\", \"2021-05-25T00:00:00\", \"2021-05-26T00:00:00\", \"2021-05-27T00:00:00\", \"2021-05-28T00:00:00\", \"2021-05-31T00:00:00\", \"2021-06-01T00:00:00\", \"2021-06-02T00:00:00\", \"2021-06-03T00:00:00\", \"2021-06-04T00:00:00\", \"2021-06-05T00:00:00\", \"2021-06-07T00:00:00\", \"2021-06-08T00:00:00\", \"2021-06-10T00:00:00\", \"2021-06-11T00:00:00\", \"2021-06-14T00:00:00\", \"2021-06-15T00:00:00\", \"2021-06-16T00:00:00\", \"2021-06-17T00:00:00\", \"2021-06-18T00:00:00\", \"2021-06-19T00:00:00\", \"2021-06-21T00:00:00\", \"2021-06-22T00:00:00\", \"2021-06-23T00:00:00\", \"2021-06-24T00:00:00\", \"2021-06-25T00:00:00\", \"2021-06-26T00:00:00\", \"2021-06-28T00:00:00\", \"2021-06-29T00:00:00\", \"2021-06-30T00:00:00\", \"2021-07-01T00:00:00\", \"2021-07-04T00:00:00\", \"2021-07-05T00:00:00\", \"2021-07-06T00:00:00\", \"2021-07-07T00:00:00\", \"2021-07-08T00:00:00\", \"2021-07-10T00:00:00\", \"2021-07-13T00:00:00\", \"2021-07-14T00:00:00\", \"2021-07-15T00:00:00\", \"2021-07-16T00:00:00\", \"2021-07-19T00:00:00\", \"2021-07-20T00:00:00\", \"2021-07-21T00:00:00\", \"2021-07-22T00:00:00\", \"2021-07-23T00:00:00\", \"2021-07-26T00:00:00\", \"2021-07-27T00:00:00\", \"2021-07-28T00:00:00\", \"2021-07-29T00:00:00\", \"2021-07-30T00:00:00\", \"2021-07-31T00:00:00\", \"2021-08-01T00:00:00\", \"2021-08-02T00:00:00\", \"2021-08-03T00:00:00\", \"2021-08-04T00:00:00\", \"2021-08-05T00:00:00\", \"2021-08-06T00:00:00\", \"2021-08-07T00:00:00\", \"2021-08-10T00:00:00\", \"2021-08-11T00:00:00\", \"2021-08-13T00:00:00\", \"2021-08-16T00:00:00\", \"2021-08-17T00:00:00\", \"2021-08-18T00:00:00\", \"2021-08-19T00:00:00\", \"2021-08-23T00:00:00\", \"2021-08-24T00:00:00\", \"2021-08-30T00:00:00\", \"2021-08-31T00:00:00\", \"2021-09-02T00:00:00\", \"2021-09-03T00:00:00\", \"2021-09-04T00:00:00\", \"2021-09-06T00:00:00\", \"2021-09-07T00:00:00\", \"2021-09-08T00:00:00\", \"2021-09-09T00:00:00\", \"2021-09-11T00:00:00\", \"2021-09-14T00:00:00\", \"2021-09-15T00:00:00\", \"2021-09-16T00:00:00\", \"2021-09-17T00:00:00\", \"2021-09-20T00:00:00\", \"2021-09-21T00:00:00\", \"2021-09-22T00:00:00\", \"2021-09-23T00:00:00\", \"2021-09-24T00:00:00\", \"2021-09-27T00:00:00\", \"2021-09-28T00:00:00\", \"2021-09-29T00:00:00\", \"2021-09-30T00:00:00\", \"2021-10-02T00:00:00\", \"2021-10-03T00:00:00\", \"2021-10-04T00:00:00\", \"2021-10-05T00:00:00\", \"2021-10-06T00:00:00\", \"2021-10-07T00:00:00\", \"2021-10-08T00:00:00\", \"2021-10-09T00:00:00\", \"2021-10-11T00:00:00\", \"2021-10-25T00:00:00\", \"2021-10-26T00:00:00\", \"2021-10-27T00:00:00\", \"2021-10-28T00:00:00\", \"2021-10-29T00:00:00\", \"2021-11-01T00:00:00\", \"2021-11-02T00:00:00\", \"2021-11-03T00:00:00\", \"2021-11-05T00:00:00\", \"2021-11-06T00:00:00\", \"2021-11-08T00:00:00\", \"2021-11-11T00:00:00\", \"2021-11-16T00:00:00\", \"2021-11-17T00:00:00\", \"2021-11-18T00:00:00\", \"2021-11-19T00:00:00\", \"2021-11-22T00:00:00\", \"2021-11-23T00:00:00\", \"2021-11-24T00:00:00\", \"2021-11-25T00:00:00\", \"2021-11-26T00:00:00\", \"2021-11-27T00:00:00\", \"2021-11-29T00:00:00\", \"2021-11-30T00:00:00\", \"2021-12-02T00:00:00\", \"2021-12-03T00:00:00\", \"2021-12-04T00:00:00\", \"2021-12-05T00:00:00\", \"2021-12-06T00:00:00\", \"2021-12-07T00:00:00\", \"2021-12-08T00:00:00\", \"2021-12-11T00:00:00\"], \"y\": [17, 17, 32, 23, 7, 1, 20, 16, 13, 9, 5, 9, 2, 4, 8, 12, 25, 24, 50, 20, 49, 35, 9, 8, 9, 10, 13, 9, 11, 13, 12, 24, 14, 45, 29, 29, 37, 31, 31, 34, 35, 24, 23, 26, 33, 22, 11, 37, 11, 38, 30, 67, 36, 34, 34, 18, 13, 39, 15, 17, 14, 9, 16, 26, 15, 22, 32, 54, 44, 15, 14, 20, 14, 11, 10, 16, 15, 14, 13, 11, 15, 17, 17, 15, 12, 33, 7, 17, 51, 34, 23, 28, 54, 16, 16, 19, 24, 16, 23, 24, 41, 20, 23, 31, 23, 35, 27, 11, 24, 25, 9, 16, 44, 40, 32, 37, 34, 34, 24, 33, 29, 40, 30, 22, 30, 35, 22, 34, 30, 42, 29, 11, 16, 27, 28, 32, 40, 43, 26, 33, 40, 38, 31, 32, 39, 55, 52, 35, 33, 36, 30, 23, 36, 13, 21, 15, 22, 7, 57, 48, 45, 31, 20, 34, 24, 27, 33, 35, 31, 24, 23, 17, 20, 22, 44, 32, 47, 26, 24, 55, 29, 35, 51, 27, 65, 39, 49, 66, 29, 30, 41, 52, 26, 19, 21, 15, 30, 21, 31, 43, 46, 29, 40, 52, 54, 79, 9, 27, 21, 13, 33, 20, 30, 28, 37, 65, 35, 21, 41, 31, 75, 50, 55, 41, 52, 36, 26, 25, 7, 42, 42, 18, 32]}, {\"line\": {\"dash\": \"dashdot\"}, \"mode\": \"lines+markers\", \"name\": \"Previsto\", \"type\": \"scatter\", \"x\": [\"2021-12-07T00:00:00\", \"2021-12-08T00:00:00\", \"2021-12-09T00:00:00\", \"2021-12-10T00:00:00\", \"2021-12-11T00:00:00\", \"2021-12-12T00:00:00\", \"2021-12-13T00:00:00\", \"2021-12-14T00:00:00\", \"2021-12-15T00:00:00\", \"2021-12-16T00:00:00\", \"2021-12-17T00:00:00\", \"2021-12-18T00:00:00\", \"2021-12-19T00:00:00\", \"2021-12-20T00:00:00\", \"2021-12-21T00:00:00\", \"2021-12-22T00:00:00\", \"2021-12-23T00:00:00\", \"2021-12-24T00:00:00\", \"2021-12-25T00:00:00\", \"2021-12-26T00:00:00\", \"2021-12-27T00:00:00\", \"2021-12-28T00:00:00\", \"2021-12-29T00:00:00\", \"2021-12-30T00:00:00\", \"2021-12-31T00:00:00\", \"2022-01-01T00:00:00\", \"2022-01-02T00:00:00\", \"2022-01-03T00:00:00\", \"2022-01-04T00:00:00\", \"2022-01-05T00:00:00\"], \"y\": [26.729131563664474, 42.08656920771369, 33.271870492192896, 54.016930194689905, 35.68338359971426, 29.115229900775834, 34.540693640548355, 25.43845843521273, 47.20664461182676, 27.89167680951259, 47.07693505958455, 37.47918887622983, 32.081796148697435, 31.345406035953246, 23.2807882085271, 32.707773625730354, 17.886178316293886, 44.56388519409022, 35.89963732716623, 21.936819838246237, 29.939214147288574, 22.708088889473245, 39.332253632730236, 25.458431022238763, 46.747595994227, 33.50991815620983, 25.97492084521437, 29.58992419841029, 21.230142987423136, 37.41595929016225]}],\n",
              "                        {\"height\": 600, \"template\": {\"data\": {\"bar\": [{\"error_x\": {\"color\": \"#2a3f5f\"}, \"error_y\": {\"color\": \"#2a3f5f\"}, \"marker\": {\"line\": {\"color\": \"#E5ECF6\", \"width\": 0.5}}, \"type\": \"bar\"}], \"barpolar\": [{\"marker\": {\"line\": {\"color\": \"#E5ECF6\", \"width\": 0.5}}, \"type\": \"barpolar\"}], \"carpet\": [{\"aaxis\": {\"endlinecolor\": \"#2a3f5f\", \"gridcolor\": \"white\", \"linecolor\": \"white\", \"minorgridcolor\": \"white\", \"startlinecolor\": \"#2a3f5f\"}, \"baxis\": {\"endlinecolor\": \"#2a3f5f\", \"gridcolor\": \"white\", \"linecolor\": \"white\", \"minorgridcolor\": \"white\", \"startlinecolor\": \"#2a3f5f\"}, \"type\": \"carpet\"}], \"choropleth\": [{\"colorbar\": {\"outlinewidth\": 0, \"ticks\": \"\"}, \"type\": \"choropleth\"}], \"contour\": [{\"colorbar\": {\"outlinewidth\": 0, \"ticks\": \"\"}, \"colorscale\": [[0.0, \"#0d0887\"], [0.1111111111111111, \"#46039f\"], [0.2222222222222222, \"#7201a8\"], [0.3333333333333333, \"#9c179e\"], [0.4444444444444444, \"#bd3786\"], [0.5555555555555556, \"#d8576b\"], [0.6666666666666666, \"#ed7953\"], [0.7777777777777778, \"#fb9f3a\"], [0.8888888888888888, \"#fdca26\"], [1.0, \"#f0f921\"]], \"type\": \"contour\"}], \"contourcarpet\": [{\"colorbar\": {\"outlinewidth\": 0, \"ticks\": \"\"}, \"type\": \"contourcarpet\"}], \"heatmap\": [{\"colorbar\": {\"outlinewidth\": 0, \"ticks\": \"\"}, \"colorscale\": [[0.0, \"#0d0887\"], [0.1111111111111111, \"#46039f\"], [0.2222222222222222, \"#7201a8\"], [0.3333333333333333, \"#9c179e\"], [0.4444444444444444, \"#bd3786\"], [0.5555555555555556, \"#d8576b\"], [0.6666666666666666, \"#ed7953\"], [0.7777777777777778, \"#fb9f3a\"], [0.8888888888888888, \"#fdca26\"], [1.0, \"#f0f921\"]], \"type\": \"heatmap\"}], \"heatmapgl\": [{\"colorbar\": {\"outlinewidth\": 0, \"ticks\": \"\"}, \"colorscale\": [[0.0, \"#0d0887\"], [0.1111111111111111, \"#46039f\"], [0.2222222222222222, \"#7201a8\"], [0.3333333333333333, \"#9c179e\"], [0.4444444444444444, \"#bd3786\"], [0.5555555555555556, \"#d8576b\"], [0.6666666666666666, \"#ed7953\"], [0.7777777777777778, \"#fb9f3a\"], [0.8888888888888888, \"#fdca26\"], [1.0, \"#f0f921\"]], \"type\": \"heatmapgl\"}], \"histogram\": [{\"marker\": {\"colorbar\": {\"outlinewidth\": 0, \"ticks\": \"\"}}, \"type\": \"histogram\"}], \"histogram2d\": [{\"colorbar\": {\"outlinewidth\": 0, \"ticks\": \"\"}, \"colorscale\": [[0.0, \"#0d0887\"], [0.1111111111111111, \"#46039f\"], [0.2222222222222222, \"#7201a8\"], [0.3333333333333333, \"#9c179e\"], [0.4444444444444444, \"#bd3786\"], [0.5555555555555556, \"#d8576b\"], [0.6666666666666666, \"#ed7953\"], [0.7777777777777778, \"#fb9f3a\"], [0.8888888888888888, \"#fdca26\"], [1.0, \"#f0f921\"]], \"type\": \"histogram2d\"}], \"histogram2dcontour\": [{\"colorbar\": {\"outlinewidth\": 0, \"ticks\": \"\"}, \"colorscale\": [[0.0, \"#0d0887\"], [0.1111111111111111, \"#46039f\"], [0.2222222222222222, \"#7201a8\"], [0.3333333333333333, \"#9c179e\"], [0.4444444444444444, \"#bd3786\"], [0.5555555555555556, \"#d8576b\"], [0.6666666666666666, \"#ed7953\"], [0.7777777777777778, \"#fb9f3a\"], [0.8888888888888888, \"#fdca26\"], [1.0, \"#f0f921\"]], \"type\": \"histogram2dcontour\"}], \"mesh3d\": [{\"colorbar\": {\"outlinewidth\": 0, \"ticks\": \"\"}, \"type\": \"mesh3d\"}], \"parcoords\": [{\"line\": {\"colorbar\": {\"outlinewidth\": 0, \"ticks\": \"\"}}, \"type\": \"parcoords\"}], \"pie\": [{\"automargin\": true, \"type\": \"pie\"}], \"scatter\": [{\"marker\": {\"colorbar\": {\"outlinewidth\": 0, \"ticks\": \"\"}}, \"type\": \"scatter\"}], \"scatter3d\": [{\"line\": {\"colorbar\": {\"outlinewidth\": 0, \"ticks\": \"\"}}, \"marker\": {\"colorbar\": {\"outlinewidth\": 0, \"ticks\": \"\"}}, \"type\": \"scatter3d\"}], \"scattercarpet\": [{\"marker\": {\"colorbar\": {\"outlinewidth\": 0, \"ticks\": \"\"}}, \"type\": \"scattercarpet\"}], \"scattergeo\": [{\"marker\": {\"colorbar\": {\"outlinewidth\": 0, \"ticks\": \"\"}}, \"type\": \"scattergeo\"}], \"scattergl\": [{\"marker\": {\"colorbar\": {\"outlinewidth\": 0, \"ticks\": \"\"}}, \"type\": \"scattergl\"}], \"scattermapbox\": [{\"marker\": {\"colorbar\": {\"outlinewidth\": 0, \"ticks\": \"\"}}, \"type\": \"scattermapbox\"}], \"scatterpolar\": [{\"marker\": {\"colorbar\": {\"outlinewidth\": 0, \"ticks\": \"\"}}, \"type\": \"scatterpolar\"}], \"scatterpolargl\": [{\"marker\": {\"colorbar\": {\"outlinewidth\": 0, \"ticks\": \"\"}}, \"type\": \"scatterpolargl\"}], \"scatterternary\": [{\"marker\": {\"colorbar\": {\"outlinewidth\": 0, \"ticks\": \"\"}}, \"type\": \"scatterternary\"}], \"surface\": [{\"colorbar\": {\"outlinewidth\": 0, \"ticks\": \"\"}, \"colorscale\": [[0.0, \"#0d0887\"], [0.1111111111111111, \"#46039f\"], [0.2222222222222222, \"#7201a8\"], [0.3333333333333333, \"#9c179e\"], [0.4444444444444444, \"#bd3786\"], [0.5555555555555556, \"#d8576b\"], [0.6666666666666666, \"#ed7953\"], [0.7777777777777778, \"#fb9f3a\"], [0.8888888888888888, \"#fdca26\"], [1.0, \"#f0f921\"]], \"type\": \"surface\"}], \"table\": [{\"cells\": {\"fill\": {\"color\": \"#EBF0F8\"}, \"line\": {\"color\": \"white\"}}, \"header\": {\"fill\": {\"color\": \"#C8D4E3\"}, \"line\": {\"color\": \"white\"}}, \"type\": \"table\"}]}, \"layout\": {\"annotationdefaults\": {\"arrowcolor\": \"#2a3f5f\", \"arrowhead\": 0, \"arrowwidth\": 1}, \"coloraxis\": {\"colorbar\": {\"outlinewidth\": 0, \"ticks\": \"\"}}, \"colorscale\": {\"diverging\": [[0, \"#8e0152\"], [0.1, \"#c51b7d\"], [0.2, \"#de77ae\"], [0.3, \"#f1b6da\"], [0.4, \"#fde0ef\"], [0.5, \"#f7f7f7\"], [0.6, \"#e6f5d0\"], [0.7, \"#b8e186\"], [0.8, \"#7fbc41\"], [0.9, \"#4d9221\"], [1, \"#276419\"]], \"sequential\": [[0.0, \"#0d0887\"], [0.1111111111111111, \"#46039f\"], [0.2222222222222222, \"#7201a8\"], [0.3333333333333333, \"#9c179e\"], [0.4444444444444444, \"#bd3786\"], [0.5555555555555556, \"#d8576b\"], [0.6666666666666666, \"#ed7953\"], [0.7777777777777778, \"#fb9f3a\"], [0.8888888888888888, \"#fdca26\"], [1.0, \"#f0f921\"]], \"sequentialminus\": [[0.0, \"#0d0887\"], [0.1111111111111111, \"#46039f\"], [0.2222222222222222, \"#7201a8\"], [0.3333333333333333, \"#9c179e\"], [0.4444444444444444, \"#bd3786\"], [0.5555555555555556, \"#d8576b\"], [0.6666666666666666, \"#ed7953\"], [0.7777777777777778, \"#fb9f3a\"], [0.8888888888888888, \"#fdca26\"], [1.0, \"#f0f921\"]]}, \"colorway\": [\"#636efa\", \"#EF553B\", \"#00cc96\", \"#ab63fa\", \"#FFA15A\", \"#19d3f3\", \"#FF6692\", \"#B6E880\", \"#FF97FF\", \"#FECB52\"], \"font\": {\"color\": \"#2a3f5f\"}, \"geo\": {\"bgcolor\": \"white\", \"lakecolor\": \"white\", \"landcolor\": \"#E5ECF6\", \"showlakes\": true, \"showland\": true, \"subunitcolor\": \"white\"}, \"hoverlabel\": {\"align\": \"left\"}, \"hovermode\": \"closest\", \"mapbox\": {\"style\": \"light\"}, \"paper_bgcolor\": \"white\", \"plot_bgcolor\": \"#E5ECF6\", \"polar\": {\"angularaxis\": {\"gridcolor\": \"white\", \"linecolor\": \"white\", \"ticks\": \"\"}, \"bgcolor\": \"#E5ECF6\", \"radialaxis\": {\"gridcolor\": \"white\", \"linecolor\": \"white\", \"ticks\": \"\"}}, \"scene\": {\"xaxis\": {\"backgroundcolor\": \"#E5ECF6\", \"gridcolor\": \"white\", \"gridwidth\": 2, \"linecolor\": \"white\", \"showbackground\": true, \"ticks\": \"\", \"zerolinecolor\": \"white\"}, \"yaxis\": {\"backgroundcolor\": \"#E5ECF6\", \"gridcolor\": \"white\", \"gridwidth\": 2, \"linecolor\": \"white\", \"showbackground\": true, \"ticks\": \"\", \"zerolinecolor\": \"white\"}, \"zaxis\": {\"backgroundcolor\": \"#E5ECF6\", \"gridcolor\": \"white\", \"gridwidth\": 2, \"linecolor\": \"white\", \"showbackground\": true, \"ticks\": \"\", \"zerolinecolor\": \"white\"}}, \"shapedefaults\": {\"line\": {\"color\": \"#2a3f5f\"}}, \"ternary\": {\"aaxis\": {\"gridcolor\": \"white\", \"linecolor\": \"white\", \"ticks\": \"\"}, \"baxis\": {\"gridcolor\": \"white\", \"linecolor\": \"white\", \"ticks\": \"\"}, \"bgcolor\": \"#E5ECF6\", \"caxis\": {\"gridcolor\": \"white\", \"linecolor\": \"white\", \"ticks\": \"\"}}, \"title\": {\"x\": 0.05}, \"xaxis\": {\"automargin\": true, \"gridcolor\": \"white\", \"linecolor\": \"white\", \"ticks\": \"\", \"title\": {\"standoff\": 15}, \"zerolinecolor\": \"white\", \"zerolinewidth\": 2}, \"yaxis\": {\"automargin\": true, \"gridcolor\": \"white\", \"linecolor\": \"white\", \"ticks\": \"\", \"title\": {\"standoff\": 15}, \"zerolinecolor\": \"white\", \"zerolinewidth\": 2}}}, \"title\": {\"text\": \"Previs\\u00e3o para os proximos 30 dias de defeitos na linha\"}, \"width\": 1200},\n",
              "                        {\"responsive\": true}\n",
              "                    ).then(function(){\n",
              "                            \n",
              "var gd = document.getElementById('d0ecbedf-0643-4ac4-9df2-abf1c6d996d5');\n",
              "var x = new MutationObserver(function (mutations, observer) {{\n",
              "        var display = window.getComputedStyle(gd).display;\n",
              "        if (!display || display === 'none') {{\n",
              "            console.log([gd, 'removed!']);\n",
              "            Plotly.purge(gd);\n",
              "            observer.disconnect();\n",
              "        }}\n",
              "}});\n",
              "\n",
              "// Listen for the removal of the full notebook cells\n",
              "var notebookContainer = gd.closest('#notebook-container');\n",
              "if (notebookContainer) {{\n",
              "    x.observe(notebookContainer, {childList: true});\n",
              "}}\n",
              "\n",
              "// Listen for the clearing of the current output cell\n",
              "var outputEl = gd.closest('.output');\n",
              "if (outputEl) {{\n",
              "    x.observe(outputEl, {childList: true});\n",
              "}}\n",
              "\n",
              "                        })\n",
              "                };\n",
              "                \n",
              "            </script>\n",
              "        </div>\n",
              "</body>\n",
              "</html>"
            ]
          },
          "metadata": {}
        }
      ]
    },
    {
      "cell_type": "markdown",
      "source": [
        "Testando nosso modelo."
      ],
      "metadata": {
        "id": "7bZ_v0k2iOo-"
      }
    },
    {
      "cell_type": "code",
      "source": [
        "dataatual = datetime.datetime.today()\n",
        "dataatual = datetime.datetime.today() - datetime.timedelta(days=15)\n",
        "lista_datas = [dataatual + datetime.timedelta(days=x) for x in range(15)]\n",
        "lista_datas = [pd.datetime.strftime(i,'%Y-%m-%d') for i in lista_datas]"
      ],
      "metadata": {
        "colab": {
          "base_uri": "https://localhost:8080/"
        },
        "id": "x_CpNorXg54b",
        "outputId": "ac04ba6e-13a8-460c-ddfb-c84e64d7eb2b"
      },
      "execution_count": 61,
      "outputs": [
        {
          "output_type": "stream",
          "name": "stderr",
          "text": [
            "/usr/local/lib/python3.7/dist-packages/ipykernel_launcher.py:4: FutureWarning:\n",
            "\n",
            "The pandas.datetime class is deprecated and will be removed from pandas in a future version. Import from datetime module instead.\n",
            "\n"
          ]
        }
      ]
    },
    {
      "cell_type": "code",
      "source": [
        "lista_datas"
      ],
      "metadata": {
        "colab": {
          "base_uri": "https://localhost:8080/"
        },
        "id": "JaVQA_aYhAW2",
        "outputId": "42bbee7f-d3de-4e23-ad9f-16867564ffdb"
      },
      "execution_count": 62,
      "outputs": [
        {
          "output_type": "execute_result",
          "data": {
            "text/plain": [
              "['2021-11-23',\n",
              " '2021-11-24',\n",
              " '2021-11-25',\n",
              " '2021-11-26',\n",
              " '2021-11-27',\n",
              " '2021-11-28',\n",
              " '2021-11-29',\n",
              " '2021-11-30',\n",
              " '2021-12-01',\n",
              " '2021-12-02',\n",
              " '2021-12-03',\n",
              " '2021-12-04',\n",
              " '2021-12-05',\n",
              " '2021-12-06',\n",
              " '2021-12-07']"
            ]
          },
          "metadata": {},
          "execution_count": 62
        }
      ]
    },
    {
      "cell_type": "code",
      "source": [
        "df_validacao = df_linha_turno.iloc[0:-14]"
      ],
      "metadata": {
        "id": "B41Pdcy3hBVS"
      },
      "execution_count": 63,
      "outputs": []
    },
    {
      "cell_type": "code",
      "source": [
        "from pmdarima.arima import auto_arima\n",
        "valid_model = auto_arima(df_validacao, start_p=0, start_d=0 ,start_q=0,max_p=8, max_d=8,max_q=8, m=7, start_P=0, seasonal=False, trace=True, error_action='ignore',suppress_warnings=True, stepwise=False)"
      ],
      "metadata": {
        "colab": {
          "base_uri": "https://localhost:8080/"
        },
        "id": "gkTLsO7ohKf1",
        "outputId": "15f9fce5-12cc-42a2-8b95-739318aafc66"
      },
      "execution_count": 64,
      "outputs": [
        {
          "output_type": "stream",
          "name": "stderr",
          "text": [
            "/usr/local/lib/python3.7/dist-packages/pmdarima/arima/_validation.py:62: UserWarning:\n",
            "\n",
            "m (7) set for non-seasonal fit. Setting to 0\n",
            "\n"
          ]
        },
        {
          "output_type": "stream",
          "name": "stdout",
          "text": [
            " ARIMA(0,1,0)(0,0,0)[0] intercept   : AIC=1801.265, Time=0.02 sec\n",
            " ARIMA(0,1,1)(0,0,0)[0] intercept   : AIC=1735.044, Time=0.10 sec\n",
            " ARIMA(0,1,2)(0,0,0)[0] intercept   : AIC=inf, Time=0.40 sec\n",
            " ARIMA(0,1,3)(0,0,0)[0] intercept   : AIC=inf, Time=0.44 sec\n",
            " ARIMA(0,1,4)(0,0,0)[0] intercept   : AIC=inf, Time=0.55 sec\n",
            " ARIMA(0,1,5)(0,0,0)[0] intercept   : AIC=inf, Time=0.73 sec\n",
            " ARIMA(1,1,0)(0,0,0)[0] intercept   : AIC=1760.598, Time=0.05 sec\n",
            " ARIMA(1,1,1)(0,0,0)[0] intercept   : AIC=inf, Time=0.45 sec\n",
            " ARIMA(1,1,2)(0,0,0)[0] intercept   : AIC=inf, Time=0.48 sec\n",
            " ARIMA(1,1,3)(0,0,0)[0] intercept   : AIC=inf, Time=0.33 sec\n",
            " ARIMA(1,1,4)(0,0,0)[0] intercept   : AIC=inf, Time=0.81 sec\n",
            " ARIMA(2,1,0)(0,0,0)[0] intercept   : AIC=1746.347, Time=0.13 sec\n",
            " ARIMA(2,1,1)(0,0,0)[0] intercept   : AIC=inf, Time=0.54 sec\n",
            " ARIMA(2,1,2)(0,0,0)[0] intercept   : AIC=inf, Time=0.42 sec\n",
            " ARIMA(2,1,3)(0,0,0)[0] intercept   : AIC=inf, Time=0.73 sec\n",
            " ARIMA(3,1,0)(0,0,0)[0] intercept   : AIC=1745.734, Time=0.18 sec\n",
            " ARIMA(3,1,1)(0,0,0)[0] intercept   : AIC=inf, Time=0.59 sec\n",
            " ARIMA(3,1,2)(0,0,0)[0] intercept   : AIC=inf, Time=0.60 sec\n",
            " ARIMA(4,1,0)(0,0,0)[0] intercept   : AIC=1745.060, Time=0.22 sec\n",
            " ARIMA(4,1,1)(0,0,0)[0] intercept   : AIC=inf, Time=0.72 sec\n",
            " ARIMA(5,1,0)(0,0,0)[0] intercept   : AIC=1747.001, Time=0.28 sec\n",
            "\n",
            "Best model:  ARIMA(0,1,1)(0,0,0)[0] intercept\n",
            "Total fit time: 8.842 seconds\n"
          ]
        }
      ]
    },
    {
      "cell_type": "code",
      "source": [
        "print(f\"Resultado AIC: {valid_model.aic()}\")\n",
        "print(f\"Resultado melhores parametros (p,d,q): {valid_model.order}\")"
      ],
      "metadata": {
        "colab": {
          "base_uri": "https://localhost:8080/"
        },
        "id": "o21NAaKYhOqZ",
        "outputId": "c3251cb8-589f-41d3-9388-ff977e84a41c"
      },
      "execution_count": 65,
      "outputs": [
        {
          "output_type": "stream",
          "name": "stdout",
          "text": [
            "Resultado AIC: 1735.044326976626\n",
            "Resultado melhores parametros (p,d,q): (0, 1, 1)\n"
          ]
        }
      ]
    },
    {
      "cell_type": "code",
      "source": [
        "valid_forecast = valid_model.predict(n_periods=15)\n",
        "valid_forecast = pd.DataFrame(valid_forecast,index = lista_datas,columns=[\"Defeitos\"])\n",
        "valid_forecast.index.name = 'Data'\n",
        "valid_forecast.index = pd.to_datetime(valid_forecast.index)\n",
        "valid_forecast.Defeitos = round(valid_forecast.Defeitos,0)\n",
        "valid_forecast.head(2)"
      ],
      "metadata": {
        "colab": {
          "base_uri": "https://localhost:8080/",
          "height": 143
        },
        "id": "c6Cunw_IhQDf",
        "outputId": "58ff8f3d-6408-4ba6-e589-47e40bc2ab51"
      },
      "execution_count": 66,
      "outputs": [
        {
          "output_type": "execute_result",
          "data": {
            "text/html": [
              "<div>\n",
              "<style scoped>\n",
              "    .dataframe tbody tr th:only-of-type {\n",
              "        vertical-align: middle;\n",
              "    }\n",
              "\n",
              "    .dataframe tbody tr th {\n",
              "        vertical-align: top;\n",
              "    }\n",
              "\n",
              "    .dataframe thead th {\n",
              "        text-align: right;\n",
              "    }\n",
              "</style>\n",
              "<table border=\"1\" class=\"dataframe\">\n",
              "  <thead>\n",
              "    <tr style=\"text-align: right;\">\n",
              "      <th></th>\n",
              "      <th>Defeitos</th>\n",
              "    </tr>\n",
              "    <tr>\n",
              "      <th>Data</th>\n",
              "      <th></th>\n",
              "    </tr>\n",
              "  </thead>\n",
              "  <tbody>\n",
              "    <tr>\n",
              "      <th>2021-11-23</th>\n",
              "      <td>36.0</td>\n",
              "    </tr>\n",
              "    <tr>\n",
              "      <th>2021-11-24</th>\n",
              "      <td>36.0</td>\n",
              "    </tr>\n",
              "  </tbody>\n",
              "</table>\n",
              "</div>"
            ],
            "text/plain": [
              "            Defeitos\n",
              "Data                \n",
              "2021-11-23      36.0\n",
              "2021-11-24      36.0"
            ]
          },
          "metadata": {},
          "execution_count": 66
        }
      ]
    },
    {
      "cell_type": "code",
      "source": [
        "import plotly.graph_objects as go   \n",
        "import plotly.express as px\n",
        "\n",
        "fig = go.Figure()\n",
        "fig.add_trace(go.Scatter(x=df_linha_turno.index, y=df_linha_turno.Defeitos,mode='lines+markers',\n",
        "                    name='Atual'))\n",
        "\n",
        "fig.add_trace(go.Scatter(x=valid_forecast.index, y=valid_forecast.Defeitos,mode='lines+markers', name='Validação 15 dias',\n",
        "line=dict(dash='dashdot')))\n",
        "\n",
        "fig.add_trace(go.Scatter(x=futuro_forecast.index, y=futuro_forecast.Defeitos,mode='lines+markers', name='Previsto 30 dias',\n",
        "line=dict(dash='dashdot')))\n",
        "\n",
        "fig.update_layout(title=\"Validando eficiência do modelo com dados ja existentes.\", width=1200, height=600)\n",
        "fig.show()"
      ],
      "metadata": {
        "colab": {
          "base_uri": "https://localhost:8080/",
          "height": 617
        },
        "id": "OsdmW2m2hXk0",
        "outputId": "f35778d0-22e2-4e9b-a0b0-4d0536ef6249"
      },
      "execution_count": 67,
      "outputs": [
        {
          "output_type": "display_data",
          "data": {
            "text/html": [
              "<html>\n",
              "<head><meta charset=\"utf-8\" /></head>\n",
              "<body>\n",
              "    <div>\n",
              "            <script src=\"https://cdnjs.cloudflare.com/ajax/libs/mathjax/2.7.5/MathJax.js?config=TeX-AMS-MML_SVG\"></script><script type=\"text/javascript\">if (window.MathJax) {MathJax.Hub.Config({SVG: {font: \"STIX-Web\"}});}</script>\n",
              "                <script type=\"text/javascript\">window.PlotlyConfig = {MathJaxConfig: 'local'};</script>\n",
              "        <script src=\"https://cdn.plot.ly/plotly-latest.min.js\"></script>    \n",
              "            <div id=\"f7c18325-b97b-4a3b-ac3c-40db0f0eda40\" class=\"plotly-graph-div\" style=\"height:600px; width:1200px;\"></div>\n",
              "            <script type=\"text/javascript\">\n",
              "                \n",
              "                    window.PLOTLYENV=window.PLOTLYENV || {};\n",
              "                    \n",
              "                if (document.getElementById(\"f7c18325-b97b-4a3b-ac3c-40db0f0eda40\")) {\n",
              "                    Plotly.newPlot(\n",
              "                        'f7c18325-b97b-4a3b-ac3c-40db0f0eda40',\n",
              "                        [{\"mode\": \"lines+markers\", \"name\": \"Atual\", \"type\": \"scatter\", \"x\": [\"2020-02-12T00:00:00\", \"2020-07-12T00:00:00\", \"2020-08-12T00:00:00\", \"2020-09-12T00:00:00\", \"2020-10-12T00:00:00\", \"2020-11-12T00:00:00\", \"2020-12-14T00:00:00\", \"2020-12-15T00:00:00\", \"2020-12-16T00:00:00\", \"2020-12-17T00:00:00\", \"2020-12-18T00:00:00\", \"2020-12-21T00:00:00\", \"2020-12-22T00:00:00\", \"2020-12-28T00:00:00\", \"2020-12-29T00:00:00\", \"2020-12-30T00:00:00\", \"2021-01-03T00:00:00\", \"2021-01-06T00:00:00\", \"2021-01-07T00:00:00\", \"2021-01-09T00:00:00\", \"2021-01-10T00:00:00\", \"2021-01-12T00:00:00\", \"2021-01-14T00:00:00\", \"2021-01-15T00:00:00\", \"2021-01-19T00:00:00\", \"2021-01-20T00:00:00\", \"2021-01-21T00:00:00\", \"2021-01-26T00:00:00\", \"2021-01-27T00:00:00\", \"2021-01-28T00:00:00\", \"2021-02-02T00:00:00\", \"2021-02-03T00:00:00\", \"2021-02-06T00:00:00\", \"2021-02-07T00:00:00\", \"2021-02-08T00:00:00\", \"2021-02-09T00:00:00\", \"2021-02-12T00:00:00\", \"2021-02-17T00:00:00\", \"2021-02-18T00:00:00\", \"2021-02-19T00:00:00\", \"2021-02-20T00:00:00\", \"2021-02-22T00:00:00\", \"2021-02-23T00:00:00\", \"2021-02-24T00:00:00\", \"2021-02-25T00:00:00\", \"2021-02-26T00:00:00\", \"2021-03-02T00:00:00\", \"2021-03-03T00:00:00\", \"2021-03-05T00:00:00\", \"2021-03-08T00:00:00\", \"2021-03-09T00:00:00\", \"2021-03-11T00:00:00\", \"2021-03-15T00:00:00\", \"2021-03-16T00:00:00\", \"2021-03-17T00:00:00\", \"2021-03-18T00:00:00\", \"2021-03-19T00:00:00\", \"2021-03-20T00:00:00\", \"2021-03-22T00:00:00\", \"2021-03-23T00:00:00\", \"2021-03-24T00:00:00\", \"2021-04-01T00:00:00\", \"2021-04-02T00:00:00\", \"2021-04-03T00:00:00\", \"2021-04-05T00:00:00\", \"2021-04-06T00:00:00\", \"2021-04-08T00:00:00\", \"2021-04-10T00:00:00\", \"2021-04-11T00:00:00\", \"2021-04-13T00:00:00\", \"2021-04-14T00:00:00\", \"2021-04-15T00:00:00\", \"2021-04-16T00:00:00\", \"2021-04-19T00:00:00\", \"2021-04-20T00:00:00\", \"2021-04-22T00:00:00\", \"2021-04-23T00:00:00\", \"2021-04-24T00:00:00\", \"2021-04-26T00:00:00\", \"2021-04-27T00:00:00\", \"2021-04-28T00:00:00\", \"2021-04-29T00:00:00\", \"2021-04-30T00:00:00\", \"2021-05-01T00:00:00\", \"2021-05-02T00:00:00\", \"2021-05-03T00:00:00\", \"2021-05-04T00:00:00\", \"2021-05-05T00:00:00\", \"2021-05-06T00:00:00\", \"2021-05-07T00:00:00\", \"2021-05-08T00:00:00\", \"2021-05-10T00:00:00\", \"2021-05-11T00:00:00\", \"2021-05-13T00:00:00\", \"2021-05-14T00:00:00\", \"2021-05-17T00:00:00\", \"2021-05-18T00:00:00\", \"2021-05-19T00:00:00\", \"2021-05-20T00:00:00\", \"2021-05-21T00:00:00\", \"2021-05-22T00:00:00\", \"2021-05-24T00:00:00\", \"2021-05-25T00:00:00\", \"2021-05-26T00:00:00\", \"2021-05-27T00:00:00\", \"2021-05-28T00:00:00\", \"2021-05-31T00:00:00\", \"2021-06-01T00:00:00\", \"2021-06-02T00:00:00\", \"2021-06-03T00:00:00\", \"2021-06-04T00:00:00\", \"2021-06-05T00:00:00\", \"2021-06-07T00:00:00\", \"2021-06-08T00:00:00\", \"2021-06-10T00:00:00\", \"2021-06-11T00:00:00\", \"2021-06-14T00:00:00\", \"2021-06-15T00:00:00\", \"2021-06-16T00:00:00\", \"2021-06-17T00:00:00\", \"2021-06-18T00:00:00\", \"2021-06-19T00:00:00\", \"2021-06-21T00:00:00\", \"2021-06-22T00:00:00\", \"2021-06-23T00:00:00\", \"2021-06-24T00:00:00\", \"2021-06-25T00:00:00\", \"2021-06-26T00:00:00\", \"2021-06-28T00:00:00\", \"2021-06-29T00:00:00\", \"2021-06-30T00:00:00\", \"2021-07-01T00:00:00\", \"2021-07-04T00:00:00\", \"2021-07-05T00:00:00\", \"2021-07-06T00:00:00\", \"2021-07-07T00:00:00\", \"2021-07-08T00:00:00\", \"2021-07-10T00:00:00\", \"2021-07-13T00:00:00\", \"2021-07-14T00:00:00\", \"2021-07-15T00:00:00\", \"2021-07-16T00:00:00\", \"2021-07-19T00:00:00\", \"2021-07-20T00:00:00\", \"2021-07-21T00:00:00\", \"2021-07-22T00:00:00\", \"2021-07-23T00:00:00\", \"2021-07-26T00:00:00\", \"2021-07-27T00:00:00\", \"2021-07-28T00:00:00\", \"2021-07-29T00:00:00\", \"2021-07-30T00:00:00\", \"2021-07-31T00:00:00\", \"2021-08-01T00:00:00\", \"2021-08-02T00:00:00\", \"2021-08-03T00:00:00\", \"2021-08-04T00:00:00\", \"2021-08-05T00:00:00\", \"2021-08-06T00:00:00\", \"2021-08-07T00:00:00\", \"2021-08-10T00:00:00\", \"2021-08-11T00:00:00\", \"2021-08-13T00:00:00\", \"2021-08-16T00:00:00\", \"2021-08-17T00:00:00\", \"2021-08-18T00:00:00\", \"2021-08-19T00:00:00\", \"2021-08-23T00:00:00\", \"2021-08-24T00:00:00\", \"2021-08-30T00:00:00\", \"2021-08-31T00:00:00\", \"2021-09-02T00:00:00\", \"2021-09-03T00:00:00\", \"2021-09-04T00:00:00\", \"2021-09-06T00:00:00\", \"2021-09-07T00:00:00\", \"2021-09-08T00:00:00\", \"2021-09-09T00:00:00\", \"2021-09-11T00:00:00\", \"2021-09-14T00:00:00\", \"2021-09-15T00:00:00\", \"2021-09-16T00:00:00\", \"2021-09-17T00:00:00\", \"2021-09-20T00:00:00\", \"2021-09-21T00:00:00\", \"2021-09-22T00:00:00\", \"2021-09-23T00:00:00\", \"2021-09-24T00:00:00\", \"2021-09-27T00:00:00\", \"2021-09-28T00:00:00\", \"2021-09-29T00:00:00\", \"2021-09-30T00:00:00\", \"2021-10-02T00:00:00\", \"2021-10-03T00:00:00\", \"2021-10-04T00:00:00\", \"2021-10-05T00:00:00\", \"2021-10-06T00:00:00\", \"2021-10-07T00:00:00\", \"2021-10-08T00:00:00\", \"2021-10-09T00:00:00\", \"2021-10-11T00:00:00\", \"2021-10-25T00:00:00\", \"2021-10-26T00:00:00\", \"2021-10-27T00:00:00\", \"2021-10-28T00:00:00\", \"2021-10-29T00:00:00\", \"2021-11-01T00:00:00\", \"2021-11-02T00:00:00\", \"2021-11-03T00:00:00\", \"2021-11-05T00:00:00\", \"2021-11-06T00:00:00\", \"2021-11-08T00:00:00\", \"2021-11-11T00:00:00\", \"2021-11-16T00:00:00\", \"2021-11-17T00:00:00\", \"2021-11-18T00:00:00\", \"2021-11-19T00:00:00\", \"2021-11-22T00:00:00\", \"2021-11-23T00:00:00\", \"2021-11-24T00:00:00\", \"2021-11-25T00:00:00\", \"2021-11-26T00:00:00\", \"2021-11-27T00:00:00\", \"2021-11-29T00:00:00\", \"2021-11-30T00:00:00\", \"2021-12-02T00:00:00\", \"2021-12-03T00:00:00\", \"2021-12-04T00:00:00\", \"2021-12-05T00:00:00\", \"2021-12-06T00:00:00\", \"2021-12-07T00:00:00\", \"2021-12-08T00:00:00\", \"2021-12-11T00:00:00\"], \"y\": [17, 17, 32, 23, 7, 1, 20, 16, 13, 9, 5, 9, 2, 4, 8, 12, 25, 24, 50, 20, 49, 35, 9, 8, 9, 10, 13, 9, 11, 13, 12, 24, 14, 45, 29, 29, 37, 31, 31, 34, 35, 24, 23, 26, 33, 22, 11, 37, 11, 38, 30, 67, 36, 34, 34, 18, 13, 39, 15, 17, 14, 9, 16, 26, 15, 22, 32, 54, 44, 15, 14, 20, 14, 11, 10, 16, 15, 14, 13, 11, 15, 17, 17, 15, 12, 33, 7, 17, 51, 34, 23, 28, 54, 16, 16, 19, 24, 16, 23, 24, 41, 20, 23, 31, 23, 35, 27, 11, 24, 25, 9, 16, 44, 40, 32, 37, 34, 34, 24, 33, 29, 40, 30, 22, 30, 35, 22, 34, 30, 42, 29, 11, 16, 27, 28, 32, 40, 43, 26, 33, 40, 38, 31, 32, 39, 55, 52, 35, 33, 36, 30, 23, 36, 13, 21, 15, 22, 7, 57, 48, 45, 31, 20, 34, 24, 27, 33, 35, 31, 24, 23, 17, 20, 22, 44, 32, 47, 26, 24, 55, 29, 35, 51, 27, 65, 39, 49, 66, 29, 30, 41, 52, 26, 19, 21, 15, 30, 21, 31, 43, 46, 29, 40, 52, 54, 79, 9, 27, 21, 13, 33, 20, 30, 28, 37, 65, 35, 21, 41, 31, 75, 50, 55, 41, 52, 36, 26, 25, 7, 42, 42, 18, 32]}, {\"line\": {\"dash\": \"dashdot\"}, \"mode\": \"lines+markers\", \"name\": \"Valida\\u00e7\\u00e3o 15 dias\", \"type\": \"scatter\", \"x\": [\"2021-11-23T00:00:00\", \"2021-11-24T00:00:00\", \"2021-11-25T00:00:00\", \"2021-11-26T00:00:00\", \"2021-11-27T00:00:00\", \"2021-11-28T00:00:00\", \"2021-11-29T00:00:00\", \"2021-11-30T00:00:00\", \"2021-12-01T00:00:00\", \"2021-12-02T00:00:00\", \"2021-12-03T00:00:00\", \"2021-12-04T00:00:00\", \"2021-12-05T00:00:00\", \"2021-12-06T00:00:00\", \"2021-12-07T00:00:00\"], \"y\": [36.0, 36.0, 36.0, 36.0, 36.0, 36.0, 37.0, 37.0, 37.0, 37.0, 37.0, 37.0, 37.0, 37.0, 37.0]}, {\"line\": {\"dash\": \"dashdot\"}, \"mode\": \"lines+markers\", \"name\": \"Previsto 30 dias\", \"type\": \"scatter\", \"x\": [\"2021-12-07T00:00:00\", \"2021-12-08T00:00:00\", \"2021-12-09T00:00:00\", \"2021-12-10T00:00:00\", \"2021-12-11T00:00:00\", \"2021-12-12T00:00:00\", \"2021-12-13T00:00:00\", \"2021-12-14T00:00:00\", \"2021-12-15T00:00:00\", \"2021-12-16T00:00:00\", \"2021-12-17T00:00:00\", \"2021-12-18T00:00:00\", \"2021-12-19T00:00:00\", \"2021-12-20T00:00:00\", \"2021-12-21T00:00:00\", \"2021-12-22T00:00:00\", \"2021-12-23T00:00:00\", \"2021-12-24T00:00:00\", \"2021-12-25T00:00:00\", \"2021-12-26T00:00:00\", \"2021-12-27T00:00:00\", \"2021-12-28T00:00:00\", \"2021-12-29T00:00:00\", \"2021-12-30T00:00:00\", \"2021-12-31T00:00:00\", \"2022-01-01T00:00:00\", \"2022-01-02T00:00:00\", \"2022-01-03T00:00:00\", \"2022-01-04T00:00:00\", \"2022-01-05T00:00:00\"], \"y\": [26.729131563664474, 42.08656920771369, 33.271870492192896, 54.016930194689905, 35.68338359971426, 29.115229900775834, 34.540693640548355, 25.43845843521273, 47.20664461182676, 27.89167680951259, 47.07693505958455, 37.47918887622983, 32.081796148697435, 31.345406035953246, 23.2807882085271, 32.707773625730354, 17.886178316293886, 44.56388519409022, 35.89963732716623, 21.936819838246237, 29.939214147288574, 22.708088889473245, 39.332253632730236, 25.458431022238763, 46.747595994227, 33.50991815620983, 25.97492084521437, 29.58992419841029, 21.230142987423136, 37.41595929016225]}],\n",
              "                        {\"height\": 600, \"template\": {\"data\": {\"bar\": [{\"error_x\": {\"color\": \"#2a3f5f\"}, \"error_y\": {\"color\": \"#2a3f5f\"}, \"marker\": {\"line\": {\"color\": \"#E5ECF6\", \"width\": 0.5}}, \"type\": \"bar\"}], \"barpolar\": [{\"marker\": {\"line\": {\"color\": \"#E5ECF6\", \"width\": 0.5}}, \"type\": \"barpolar\"}], \"carpet\": [{\"aaxis\": {\"endlinecolor\": \"#2a3f5f\", \"gridcolor\": \"white\", \"linecolor\": \"white\", \"minorgridcolor\": \"white\", \"startlinecolor\": \"#2a3f5f\"}, \"baxis\": {\"endlinecolor\": \"#2a3f5f\", \"gridcolor\": \"white\", \"linecolor\": \"white\", \"minorgridcolor\": \"white\", \"startlinecolor\": \"#2a3f5f\"}, \"type\": \"carpet\"}], \"choropleth\": [{\"colorbar\": {\"outlinewidth\": 0, \"ticks\": \"\"}, \"type\": \"choropleth\"}], \"contour\": [{\"colorbar\": {\"outlinewidth\": 0, \"ticks\": \"\"}, \"colorscale\": [[0.0, \"#0d0887\"], [0.1111111111111111, \"#46039f\"], [0.2222222222222222, \"#7201a8\"], [0.3333333333333333, \"#9c179e\"], [0.4444444444444444, \"#bd3786\"], [0.5555555555555556, \"#d8576b\"], [0.6666666666666666, \"#ed7953\"], [0.7777777777777778, \"#fb9f3a\"], [0.8888888888888888, \"#fdca26\"], [1.0, \"#f0f921\"]], \"type\": \"contour\"}], \"contourcarpet\": [{\"colorbar\": {\"outlinewidth\": 0, \"ticks\": \"\"}, \"type\": \"contourcarpet\"}], \"heatmap\": [{\"colorbar\": {\"outlinewidth\": 0, \"ticks\": \"\"}, \"colorscale\": [[0.0, \"#0d0887\"], [0.1111111111111111, \"#46039f\"], [0.2222222222222222, \"#7201a8\"], [0.3333333333333333, \"#9c179e\"], [0.4444444444444444, \"#bd3786\"], [0.5555555555555556, \"#d8576b\"], [0.6666666666666666, \"#ed7953\"], [0.7777777777777778, \"#fb9f3a\"], [0.8888888888888888, \"#fdca26\"], [1.0, \"#f0f921\"]], \"type\": \"heatmap\"}], \"heatmapgl\": [{\"colorbar\": {\"outlinewidth\": 0, \"ticks\": \"\"}, \"colorscale\": [[0.0, \"#0d0887\"], [0.1111111111111111, \"#46039f\"], [0.2222222222222222, \"#7201a8\"], [0.3333333333333333, \"#9c179e\"], [0.4444444444444444, \"#bd3786\"], [0.5555555555555556, \"#d8576b\"], [0.6666666666666666, \"#ed7953\"], [0.7777777777777778, \"#fb9f3a\"], [0.8888888888888888, \"#fdca26\"], [1.0, \"#f0f921\"]], \"type\": \"heatmapgl\"}], \"histogram\": [{\"marker\": {\"colorbar\": {\"outlinewidth\": 0, \"ticks\": \"\"}}, \"type\": \"histogram\"}], \"histogram2d\": [{\"colorbar\": {\"outlinewidth\": 0, \"ticks\": \"\"}, \"colorscale\": [[0.0, \"#0d0887\"], [0.1111111111111111, \"#46039f\"], [0.2222222222222222, \"#7201a8\"], [0.3333333333333333, \"#9c179e\"], [0.4444444444444444, \"#bd3786\"], [0.5555555555555556, \"#d8576b\"], [0.6666666666666666, \"#ed7953\"], [0.7777777777777778, \"#fb9f3a\"], [0.8888888888888888, \"#fdca26\"], [1.0, \"#f0f921\"]], \"type\": \"histogram2d\"}], \"histogram2dcontour\": [{\"colorbar\": {\"outlinewidth\": 0, \"ticks\": \"\"}, \"colorscale\": [[0.0, \"#0d0887\"], [0.1111111111111111, \"#46039f\"], [0.2222222222222222, \"#7201a8\"], [0.3333333333333333, \"#9c179e\"], [0.4444444444444444, \"#bd3786\"], [0.5555555555555556, \"#d8576b\"], [0.6666666666666666, \"#ed7953\"], [0.7777777777777778, \"#fb9f3a\"], [0.8888888888888888, \"#fdca26\"], [1.0, \"#f0f921\"]], \"type\": \"histogram2dcontour\"}], \"mesh3d\": [{\"colorbar\": {\"outlinewidth\": 0, \"ticks\": \"\"}, \"type\": \"mesh3d\"}], \"parcoords\": [{\"line\": {\"colorbar\": {\"outlinewidth\": 0, \"ticks\": \"\"}}, \"type\": \"parcoords\"}], \"pie\": [{\"automargin\": true, \"type\": \"pie\"}], \"scatter\": [{\"marker\": {\"colorbar\": {\"outlinewidth\": 0, \"ticks\": \"\"}}, \"type\": \"scatter\"}], \"scatter3d\": [{\"line\": {\"colorbar\": {\"outlinewidth\": 0, \"ticks\": \"\"}}, \"marker\": {\"colorbar\": {\"outlinewidth\": 0, \"ticks\": \"\"}}, \"type\": \"scatter3d\"}], \"scattercarpet\": [{\"marker\": {\"colorbar\": {\"outlinewidth\": 0, \"ticks\": \"\"}}, \"type\": \"scattercarpet\"}], \"scattergeo\": [{\"marker\": {\"colorbar\": {\"outlinewidth\": 0, \"ticks\": \"\"}}, \"type\": \"scattergeo\"}], \"scattergl\": [{\"marker\": {\"colorbar\": {\"outlinewidth\": 0, \"ticks\": \"\"}}, \"type\": \"scattergl\"}], \"scattermapbox\": [{\"marker\": {\"colorbar\": {\"outlinewidth\": 0, \"ticks\": \"\"}}, \"type\": \"scattermapbox\"}], \"scatterpolar\": [{\"marker\": {\"colorbar\": {\"outlinewidth\": 0, \"ticks\": \"\"}}, \"type\": \"scatterpolar\"}], \"scatterpolargl\": [{\"marker\": {\"colorbar\": {\"outlinewidth\": 0, \"ticks\": \"\"}}, \"type\": \"scatterpolargl\"}], \"scatterternary\": [{\"marker\": {\"colorbar\": {\"outlinewidth\": 0, \"ticks\": \"\"}}, \"type\": \"scatterternary\"}], \"surface\": [{\"colorbar\": {\"outlinewidth\": 0, \"ticks\": \"\"}, \"colorscale\": [[0.0, \"#0d0887\"], [0.1111111111111111, \"#46039f\"], [0.2222222222222222, \"#7201a8\"], [0.3333333333333333, \"#9c179e\"], [0.4444444444444444, \"#bd3786\"], [0.5555555555555556, \"#d8576b\"], [0.6666666666666666, \"#ed7953\"], [0.7777777777777778, \"#fb9f3a\"], [0.8888888888888888, \"#fdca26\"], [1.0, \"#f0f921\"]], \"type\": \"surface\"}], \"table\": [{\"cells\": {\"fill\": {\"color\": \"#EBF0F8\"}, \"line\": {\"color\": \"white\"}}, \"header\": {\"fill\": {\"color\": \"#C8D4E3\"}, \"line\": {\"color\": \"white\"}}, \"type\": \"table\"}]}, \"layout\": {\"annotationdefaults\": {\"arrowcolor\": \"#2a3f5f\", \"arrowhead\": 0, \"arrowwidth\": 1}, \"coloraxis\": {\"colorbar\": {\"outlinewidth\": 0, \"ticks\": \"\"}}, \"colorscale\": {\"diverging\": [[0, \"#8e0152\"], [0.1, \"#c51b7d\"], [0.2, \"#de77ae\"], [0.3, \"#f1b6da\"], [0.4, \"#fde0ef\"], [0.5, \"#f7f7f7\"], [0.6, \"#e6f5d0\"], [0.7, \"#b8e186\"], [0.8, \"#7fbc41\"], [0.9, \"#4d9221\"], [1, \"#276419\"]], \"sequential\": [[0.0, \"#0d0887\"], [0.1111111111111111, \"#46039f\"], [0.2222222222222222, \"#7201a8\"], [0.3333333333333333, \"#9c179e\"], [0.4444444444444444, \"#bd3786\"], [0.5555555555555556, \"#d8576b\"], [0.6666666666666666, \"#ed7953\"], [0.7777777777777778, \"#fb9f3a\"], [0.8888888888888888, \"#fdca26\"], [1.0, \"#f0f921\"]], \"sequentialminus\": [[0.0, \"#0d0887\"], [0.1111111111111111, \"#46039f\"], [0.2222222222222222, \"#7201a8\"], [0.3333333333333333, \"#9c179e\"], [0.4444444444444444, \"#bd3786\"], [0.5555555555555556, \"#d8576b\"], [0.6666666666666666, \"#ed7953\"], [0.7777777777777778, \"#fb9f3a\"], [0.8888888888888888, \"#fdca26\"], [1.0, \"#f0f921\"]]}, \"colorway\": [\"#636efa\", \"#EF553B\", \"#00cc96\", \"#ab63fa\", \"#FFA15A\", \"#19d3f3\", \"#FF6692\", \"#B6E880\", \"#FF97FF\", \"#FECB52\"], \"font\": {\"color\": \"#2a3f5f\"}, \"geo\": {\"bgcolor\": \"white\", \"lakecolor\": \"white\", \"landcolor\": \"#E5ECF6\", \"showlakes\": true, \"showland\": true, \"subunitcolor\": \"white\"}, \"hoverlabel\": {\"align\": \"left\"}, \"hovermode\": \"closest\", \"mapbox\": {\"style\": \"light\"}, \"paper_bgcolor\": \"white\", \"plot_bgcolor\": \"#E5ECF6\", \"polar\": {\"angularaxis\": {\"gridcolor\": \"white\", \"linecolor\": \"white\", \"ticks\": \"\"}, \"bgcolor\": \"#E5ECF6\", \"radialaxis\": {\"gridcolor\": \"white\", \"linecolor\": \"white\", \"ticks\": \"\"}}, \"scene\": {\"xaxis\": {\"backgroundcolor\": \"#E5ECF6\", \"gridcolor\": \"white\", \"gridwidth\": 2, \"linecolor\": \"white\", \"showbackground\": true, \"ticks\": \"\", \"zerolinecolor\": \"white\"}, \"yaxis\": {\"backgroundcolor\": \"#E5ECF6\", \"gridcolor\": \"white\", \"gridwidth\": 2, \"linecolor\": \"white\", \"showbackground\": true, \"ticks\": \"\", \"zerolinecolor\": \"white\"}, \"zaxis\": {\"backgroundcolor\": \"#E5ECF6\", \"gridcolor\": \"white\", \"gridwidth\": 2, \"linecolor\": \"white\", \"showbackground\": true, \"ticks\": \"\", \"zerolinecolor\": \"white\"}}, \"shapedefaults\": {\"line\": {\"color\": \"#2a3f5f\"}}, \"ternary\": {\"aaxis\": {\"gridcolor\": \"white\", \"linecolor\": \"white\", \"ticks\": \"\"}, \"baxis\": {\"gridcolor\": \"white\", \"linecolor\": \"white\", \"ticks\": \"\"}, \"bgcolor\": \"#E5ECF6\", \"caxis\": {\"gridcolor\": \"white\", \"linecolor\": \"white\", \"ticks\": \"\"}}, \"title\": {\"x\": 0.05}, \"xaxis\": {\"automargin\": true, \"gridcolor\": \"white\", \"linecolor\": \"white\", \"ticks\": \"\", \"title\": {\"standoff\": 15}, \"zerolinecolor\": \"white\", \"zerolinewidth\": 2}, \"yaxis\": {\"automargin\": true, \"gridcolor\": \"white\", \"linecolor\": \"white\", \"ticks\": \"\", \"title\": {\"standoff\": 15}, \"zerolinecolor\": \"white\", \"zerolinewidth\": 2}}}, \"title\": {\"text\": \"Validando efici\\u00eancia do modelo com dados ja existentes.\"}, \"width\": 1200},\n",
              "                        {\"responsive\": true}\n",
              "                    ).then(function(){\n",
              "                            \n",
              "var gd = document.getElementById('f7c18325-b97b-4a3b-ac3c-40db0f0eda40');\n",
              "var x = new MutationObserver(function (mutations, observer) {{\n",
              "        var display = window.getComputedStyle(gd).display;\n",
              "        if (!display || display === 'none') {{\n",
              "            console.log([gd, 'removed!']);\n",
              "            Plotly.purge(gd);\n",
              "            observer.disconnect();\n",
              "        }}\n",
              "}});\n",
              "\n",
              "// Listen for the removal of the full notebook cells\n",
              "var notebookContainer = gd.closest('#notebook-container');\n",
              "if (notebookContainer) {{\n",
              "    x.observe(notebookContainer, {childList: true});\n",
              "}}\n",
              "\n",
              "// Listen for the clearing of the current output cell\n",
              "var outputEl = gd.closest('.output');\n",
              "if (outputEl) {{\n",
              "    x.observe(outputEl, {childList: true});\n",
              "}}\n",
              "\n",
              "                        })\n",
              "                };\n",
              "                \n",
              "            </script>\n",
              "        </div>\n",
              "</body>\n",
              "</html>"
            ]
          },
          "metadata": {}
        }
      ]
    },
    {
      "cell_type": "markdown",
      "source": [
        "Conforme podemos observar a previsão de 15 dias seguiu uma tendencia e não a sazonalidade dos dados originais, enquanto a previsão de 30 dias que já visualizamos anteriormente considerou a sazonalidade."
      ],
      "metadata": {
        "id": "78HMtYUwiVgZ"
      }
    }
  ]
}